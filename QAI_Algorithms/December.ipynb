{
 "cells": [
  {
   "cell_type": "code",
   "execution_count": 10,
   "id": "98835583-4dd2-4314-989d-2e3157b4d032",
   "metadata": {
    "tags": []
   },
   "outputs": [],
   "source": [
    "from qiskit import QuantumCircuit\n",
    "\n",
    "def prepare_bell_state(state_number,qc):\n",
    "    if state_number == 1:  # |Φ+⟩\n",
    "        qc.h(0)\n",
    "        qc.cx(0, 1)\n",
    "    elif state_number == 2:  # |Φ-⟩\n",
    "        qc.h(0)\n",
    "        qc.cx(0, 1)\n",
    "        qc.z(0)\n",
    "    elif state_number == 3:  # |Ψ+⟩\n",
    "        qc.h(0)\n",
    "        qc.cx(0, 1)\n",
    "        qc.x(1)\n",
    "    elif state_number == 4:  # |Ψ-⟩\n",
    "        qc.h(0)\n",
    "        qc.cx(0, 1)\n",
    "        qc.x(1)\n",
    "        qc.z(0)\n",
    "    else:\n",
    "        raise ValueError(\"State number must be 1, 2, 3, or 4.\")\n",
    "\n",
    "    return qc"
   ]
  },
  {
   "cell_type": "code",
   "execution_count": 31,
   "id": "647c8f5b-900b-4a1f-acce-2a7d60014465",
   "metadata": {
    "tags": []
   },
   "outputs": [],
   "source": [
    "from qiskit import execute, Aer\n",
    "from qiskit.visualization import plot_histogram\n",
    "import numpy as np\n",
    "\n",
    "def cxHI_simul(bell_state):\n",
    "    # Create a 2-qubit quantum circuit\n",
    "    qc = QuantumCircuit(2)\n",
    "\n",
    "    prepare_bell_state(bell_state,qc)\n",
    "    \n",
    "    \n",
    "\n",
    "    # Apply CNOT gate with the first qubit as control and the second as target\n",
    "    qc.cx(0, 1)\n",
    "    \n",
    "    # Apply H gate on the first qubit\n",
    "    qc.h(0)\n",
    "    \n",
    "    # Draw the circuit\n",
    "    qc.draw(output='mpl')\n",
    "\n",
    "    # (Optional) Simulate the circuit\n",
    "    simulator = Aer.get_backend('statevector_simulator')\n",
    "    result = execute(qc, simulator).result()\n",
    "    statevector = result.get_statevector()\n",
    "    statevector = np.asarray(result.get_statevector())\n",
    "    rounded_statevector = [round(x.real, 3) + round(x.imag, 3) * 1j for x in statevector]\n",
    "    print(\"Rounded Statevector:\", rounded_statevector)\n",
    "\n",
    "    qc.measure_all()\n",
    "    # szimulálás\n",
    "    job = execute(qc, simulator, shots=1024)\n",
    "    result = job.result()\n",
    "    counts = result.get_counts(qc)\n",
    "    print(counts)"
   ]
  },
  {
   "cell_type": "code",
   "execution_count": 32,
   "id": "5190a4c1-6164-4dcb-b0fc-e7067c257faa",
   "metadata": {
    "tags": []
   },
   "outputs": [
    {
     "name": "stdout",
     "output_type": "stream",
     "text": [
      "Rounded Statevector: [(1+0j), 0j, 0j, 0j]\n",
      "{'00': 1024}\n",
      "Rounded Statevector: [0j, (1+0j), 0j, 0j]\n",
      "{'01': 1024}\n",
      "Rounded Statevector: [0j, 0j, (1+0j), 0j]\n",
      "{'10': 1024}\n",
      "Rounded Statevector: [0j, 0j, 0j, (1+0j)]\n",
      "{'11': 1024}\n"
     ]
    }
   ],
   "source": [
    "# bell állapotok előkészítése\n",
    "for i in range(1,5):\n",
    "    cxHI_simul(i)"
   ]
  },
  {
   "cell_type": "code",
   "execution_count": null,
   "id": "415b43c3-bae2-4b69-9daa-b01eaa203d53",
   "metadata": {},
   "outputs": [],
   "source": []
  }
 ],
 "metadata": {
  "kernelspec": {
   "display_name": "Python 3 (ipykernel)",
   "language": "python",
   "name": "python3"
  },
  "language_info": {
   "codemirror_mode": {
    "name": "ipython",
    "version": 3
   },
   "file_extension": ".py",
   "mimetype": "text/x-python",
   "name": "python",
   "nbconvert_exporter": "python",
   "pygments_lexer": "ipython3",
   "version": "3.10.8"
  },
  "widgets": {
   "application/vnd.jupyter.widget-state+json": {
    "state": {
     "08d30af120464aabb9b6ea3227be14fd": {
      "model_module": "@jupyter-widgets/controls",
      "model_module_version": "2.0.0",
      "model_name": "HTMLStyleModel",
      "state": {
       "description_width": "",
       "font_size": null,
       "text_color": null
      }
     },
     "0943ff488a9d4d858936d75142ed4dda": {
      "model_module": "@jupyter-widgets/controls",
      "model_module_version": "2.0.0",
      "model_name": "ButtonModel",
      "state": {
       "button_style": "primary",
       "description": "Clear",
       "layout": "IPY_MODEL_4b4b0c682a154cc5b082be5b0d134cc7",
       "style": "IPY_MODEL_b62d4336968b4c6f8280dac7d62f1d25",
       "tooltip": null
      }
     },
     "0d06589cdcbc4b5bbe47740e270cbadb": {
      "model_module": "@jupyter-widgets/controls",
      "model_module_version": "2.0.0",
      "model_name": "HBoxModel",
      "state": {
       "children": [
        "IPY_MODEL_f05160d55beb4556b98e588c15ef6654",
        "IPY_MODEL_9e8e26e9177940e4982347125316dd71",
        "IPY_MODEL_8548bc42c76f4b35a3d5dd240ba96a1d",
        "IPY_MODEL_9443f4a61a7e43b98be8eadf128fca47",
        "IPY_MODEL_43ef13d0eec445ffb8a0c11026ad8dd5"
       ],
       "layout": "IPY_MODEL_362a926f3ba841b1aed91a4ba7beb23f"
      }
     },
     "0e6fecb9b3864658a721c4d0460f7698": {
      "model_module": "@jupyter-widgets/controls",
      "model_module_version": "2.0.0",
      "model_name": "GridBoxModel",
      "state": {
       "children": [
        "IPY_MODEL_0943ff488a9d4d858936d75142ed4dda"
       ],
       "layout": "IPY_MODEL_923eddfc75d54770beb9bd0fbaaaff39"
      }
     },
     "102c0efcdfe443aea130828c165cf487": {
      "model_module": "@jupyter-widgets/controls",
      "model_module_version": "2.0.0",
      "model_name": "HTMLStyleModel",
      "state": {
       "description_width": "",
       "font_size": null,
       "text_color": null
      }
     },
     "12a793b2b4314a0dbfbb25b51f561ef0": {
      "model_module": "@jupyter-widgets/base",
      "model_module_version": "2.0.0",
      "model_name": "LayoutModel",
      "state": {
       "width": "70px"
      }
     },
     "362a926f3ba841b1aed91a4ba7beb23f": {
      "model_module": "@jupyter-widgets/base",
      "model_module_version": "2.0.0",
      "model_name": "LayoutModel",
      "state": {
       "margin": "0px 0px 0px 37px",
       "width": "600px"
      }
     },
     "3a866240856c4733b2cd51d7a06c402d": {
      "model_module": "@jupyter-widgets/controls",
      "model_module_version": "2.0.0",
      "model_name": "HTMLModel",
      "state": {
       "layout": "IPY_MODEL_6a34d6867e3c4a2987d69b8570b849fd",
       "style": "IPY_MODEL_102c0efcdfe443aea130828c165cf487",
       "value": "<p style='font-family: IBM Plex Sans, Arial, Helvetica, sans-serif; font-size: 20px; font-weight: medium;'>Circuit Properties</p>"
      }
     },
     "3fa5aeb7f9b34bcfa7e05dd176584561": {
      "model_module": "@jupyter-widgets/controls",
      "model_module_version": "2.0.0",
      "model_name": "HTMLStyleModel",
      "state": {
       "description_width": "",
       "font_size": null,
       "text_color": null
      }
     },
     "43ef13d0eec445ffb8a0c11026ad8dd5": {
      "model_module": "@jupyter-widgets/controls",
      "model_module_version": "2.0.0",
      "model_name": "HTMLModel",
      "state": {
       "layout": "IPY_MODEL_d9ff4695b852453da122bc99341f7822",
       "style": "IPY_MODEL_5cf7ab8a13c848f1884863413fe0abc7",
       "value": "<h5>Message</h5>"
      }
     },
     "4b4b0c682a154cc5b082be5b0d134cc7": {
      "model_module": "@jupyter-widgets/base",
      "model_module_version": "2.0.0",
      "model_name": "LayoutModel",
      "state": {
       "grid_area": "right",
       "padding": "0px 0px 0px 0px",
       "width": "70px"
      }
     },
     "54b9eaf1ffcf44ffa228c915740d1993": {
      "model_module": "@jupyter-widgets/base",
      "model_module_version": "2.0.0",
      "model_name": "LayoutModel",
      "state": {
       "width": "190px"
      }
     },
     "5cf7ab8a13c848f1884863413fe0abc7": {
      "model_module": "@jupyter-widgets/controls",
      "model_module_version": "2.0.0",
      "model_name": "HTMLStyleModel",
      "state": {
       "description_width": "",
       "font_size": null,
       "text_color": null
      }
     },
     "6660e660409b444598d6acfa424e63c6": {
      "model_module": "@jupyter-widgets/controls",
      "model_module_version": "2.0.0",
      "model_name": "HTMLStyleModel",
      "state": {
       "description_width": "",
       "font_size": null,
       "text_color": null
      }
     },
     "6a34d6867e3c4a2987d69b8570b849fd": {
      "model_module": "@jupyter-widgets/base",
      "model_module_version": "2.0.0",
      "model_name": "LayoutModel",
      "state": {
       "margin": "0px 0px 10px 0px"
      }
     },
     "8548bc42c76f4b35a3d5dd240ba96a1d": {
      "model_module": "@jupyter-widgets/controls",
      "model_module_version": "2.0.0",
      "model_name": "HTMLModel",
      "state": {
       "layout": "IPY_MODEL_f58cb0b283f54dceb9e9a6ed6b8284b5",
       "style": "IPY_MODEL_3fa5aeb7f9b34bcfa7e05dd176584561",
       "value": "<h5>Status</h5>"
      }
     },
     "923eddfc75d54770beb9bd0fbaaaff39": {
      "model_module": "@jupyter-widgets/base",
      "model_module_version": "2.0.0",
      "model_name": "LayoutModel",
      "state": {
       "grid_template_areas": "\n                                       \". . . . right \"\n                                        ",
       "grid_template_columns": "20% 20% 20% 20% 20%",
       "width": "100%"
      }
     },
     "9443f4a61a7e43b98be8eadf128fca47": {
      "model_module": "@jupyter-widgets/controls",
      "model_module_version": "2.0.0",
      "model_name": "HTMLModel",
      "state": {
       "layout": "IPY_MODEL_12a793b2b4314a0dbfbb25b51f561ef0",
       "style": "IPY_MODEL_08d30af120464aabb9b6ea3227be14fd",
       "value": "<h5>Queue</h5>"
      }
     },
     "9e8e26e9177940e4982347125316dd71": {
      "model_module": "@jupyter-widgets/controls",
      "model_module_version": "2.0.0",
      "model_name": "HTMLModel",
      "state": {
       "layout": "IPY_MODEL_e95213e22e384bd68a2e99241683e976",
       "style": "IPY_MODEL_6660e660409b444598d6acfa424e63c6",
       "value": "<h5>Backend</h5>"
      }
     },
     "b62d4336968b4c6f8280dac7d62f1d25": {
      "model_module": "@jupyter-widgets/controls",
      "model_module_version": "2.0.0",
      "model_name": "ButtonStyleModel",
      "state": {
       "font_family": null,
       "font_size": null,
       "font_style": null,
       "font_variant": null,
       "font_weight": null,
       "text_color": null,
       "text_decoration": null
      }
     },
     "d9ff4695b852453da122bc99341f7822": {
      "model_module": "@jupyter-widgets/base",
      "model_module_version": "2.0.0",
      "model_name": "LayoutModel",
      "state": {}
     },
     "e95213e22e384bd68a2e99241683e976": {
      "model_module": "@jupyter-widgets/base",
      "model_module_version": "2.0.0",
      "model_name": "LayoutModel",
      "state": {
       "width": "145px"
      }
     },
     "ead0ef2f332043449c498d5a12357ffa": {
      "model_module": "@jupyter-widgets/controls",
      "model_module_version": "2.0.0",
      "model_name": "HTMLStyleModel",
      "state": {
       "description_width": "",
       "font_size": null,
       "text_color": null
      }
     },
     "f05160d55beb4556b98e588c15ef6654": {
      "model_module": "@jupyter-widgets/controls",
      "model_module_version": "2.0.0",
      "model_name": "HTMLModel",
      "state": {
       "layout": "IPY_MODEL_54b9eaf1ffcf44ffa228c915740d1993",
       "style": "IPY_MODEL_ead0ef2f332043449c498d5a12357ffa",
       "value": "<h5>Job ID</h5>"
      }
     },
     "f58cb0b283f54dceb9e9a6ed6b8284b5": {
      "model_module": "@jupyter-widgets/base",
      "model_module_version": "2.0.0",
      "model_name": "LayoutModel",
      "state": {
       "width": "95px"
      }
     }
    },
    "version_major": 2,
    "version_minor": 0
   }
  }
 },
 "nbformat": 4,
 "nbformat_minor": 5
}
