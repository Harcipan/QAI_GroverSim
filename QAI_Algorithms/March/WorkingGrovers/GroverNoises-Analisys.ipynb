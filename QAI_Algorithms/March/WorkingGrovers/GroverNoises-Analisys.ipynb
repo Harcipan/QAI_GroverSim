{
 "cells": [
  {
   "cell_type": "code",
   "execution_count": 1,
   "id": "b966d479-e33f-4757-8e24-3d2281f46b28",
   "metadata": {
    "tags": []
   },
   "outputs": [
    {
     "name": "stderr",
     "output_type": "stream",
     "text": [
      "/opt/conda/lib/python3.10/site-packages/pandas/core/computation/expressions.py:21: UserWarning: Pandas requires version '2.8.4' or newer of 'numexpr' (version '2.8.3' currently installed).\n",
      "  from pandas.core.computation.check import NUMEXPR_INSTALLED\n",
      "/opt/conda/lib/python3.10/site-packages/pandas/core/arrays/masked.py:60: UserWarning: Pandas requires version '1.3.6' or newer of 'bottleneck' (version '1.3.5' currently installed).\n",
      "  from pandas.core import (\n",
      "qiskit_runtime_service.__init__:INFO:2024-03-17 19:10:55,076: Default instance: ibm-q/open/main\n"
     ]
    }
   ],
   "source": [
    "# Importing standard Qiskit libraries\n",
    "from qiskit import QuantumCircuit, transpile\n",
    "from qiskit_ibm_provider import IBMProvider\n",
    "import qiskit_ibm_provider.jupyter\n",
    " \n",
    "#provider = IBMProvider('ibm-q')\n",
    "#backend = provider.get_backend('ibmq_vigo')\n",
    "from qiskit.visualization import *\n",
    "from ibm_quantum_widgets import *\n",
    "\n",
    "# qiskit-ibmq-provider has been deprecated.\n",
    "# Please see the Migration Guides in https://ibm.biz/provider_migration_guide for more detail.\n",
    "from qiskit_ibm_runtime import QiskitRuntimeService, Sampler, Estimator, Session, Options\n",
    "\n",
    "# Loading your IBM Quantum account(s)\n",
    "service = QiskitRuntimeService(channel=\"ibm_quantum\")\n",
    "\n",
    "# Invoke a primitive. For more details see https://qiskit.org/documentation/partners/qiskit_ibm_runtime/tutorials.html\n",
    "# result = Sampler(\"ibmq_qasm_simulator\").run(circuits).result()# Built-in modules\n",
    "import math\n",
    "\n",
    "# Imports from Qiskit\n",
    "from qiskit import QuantumCircuit\n",
    "from qiskit.circuit.library import GroverOperator, MCMT, ZGate\n",
    "from qiskit.visualization import plot_distribution\n",
    "\n",
    "# Imports from Qiskit Runtime\n",
    "from qiskit_ibm_runtime import QiskitRuntimeService, Sampler, Session\n",
    "\n",
    "from qiskit.providers.basic_provider import BasicProvider\n",
    "from qiskit.visualization import plot_histogram\n",
    "from qiskit import transpile\n",
    "from qiskit.providers.fake_provider import GenericBackendV2"
   ]
  },
  {
   "cell_type": "code",
   "execution_count": 2,
   "id": "62ebcb9d-6de8-42bc-9ee0-9be4266ac31b",
   "metadata": {
    "tags": []
   },
   "outputs": [],
   "source": [
    "def grover_oracle(marked_states, i, j, k):\n",
    "    if not isinstance(marked_states, list):\n",
    "        marked_states = [marked_states]\n",
    "    num_qubits = len(marked_states[0])\n",
    "    qc = QuantumCircuit(num_qubits)\n",
    "    for target in marked_states:\n",
    "        rev_target = target[::-1]\n",
    "        zero_inds = [ind for ind in range(num_qubits) if rev_target.startswith(\"0\", ind)]\n",
    "        qc.x(zero_inds)\n",
    "        \n",
    "        \"\"\"ZAJ 1\"\"\"\n",
    "        qc.rx(0.1*i,zero_inds)\n",
    "        qc.ry(0.1*j,zero_inds)\n",
    "        qc.rz(0.1*k,zero_inds)\n",
    "        \n",
    "        qc.compose(MCMT(ZGate(), num_qubits - 1, 1), inplace=True)\n",
    "        qc.x(zero_inds)\n",
    "    return qc"
   ]
  },
  {
   "cell_type": "code",
   "execution_count": null,
   "id": "23b7f1b2-f66d-4595-b7d0-40e202afa771",
   "metadata": {
    "tags": []
   },
   "outputs": [],
   "source": [
    "marked_states = [\"011\", \"100\"]\n",
    "printToConsole = False\n",
    "\n",
    "for i in range(0,10):\n",
    "    for j in range(0,10):\n",
    "        for k in range(0,10):\n",
    "            oracle = grover_oracle(marked_states, i, j, k)\n",
    "            grover_op = GroverOperator(oracle)\n",
    "            optimal_num_iterations = math.floor(\n",
    "                math.pi / 4 * math.sqrt(2**grover_op.num_qubits / len(marked_states))\n",
    "            )\n",
    "            qc = QuantumCircuit(grover_op.num_qubits)\n",
    "            # Create even superposition of all basis states\n",
    "            qc.h(range(grover_op.num_qubits))\n",
    "\n",
    "            # Apply Grover operator the optimal number of times\n",
    "            qc.compose(grover_op.power(optimal_num_iterations), inplace=True)\n",
    "\n",
    "            \"\"\"ZAJ 2\"\"\"\n",
    "            #qc.x(range(grover_op.num_qubits))\n",
    "\n",
    "            # Measure all qubits\n",
    "            qc.measure_all()\n",
    "            #qc.draw('mpl')\n",
    "            grover_op.decompose().draw(\"mpl\")\n",
    "\n",
    "            backend = GenericBackendV2(num_qubits=5)\n",
    "\n",
    "            transpiled_circuit = transpile(qc, backend)\n",
    "\n",
    "            job = backend.run(transpiled_circuit)\n",
    "            counts = job.result().get_counts()\n",
    "\n",
    "            # Format counts data\n",
    "            formatted_output = \"\"\n",
    "            for state in ['000', '001', '010', '011', '100', '101', '110', '111']:\n",
    "                formatted_output += f\"{counts.get(state, 0)} \"\n",
    "\n",
    "            # Write counts data to a text file\n",
    "            with open('counts_data.txt', 'a') as file:\n",
    "                file.write(formatted_output + \"\\n\")\n",
    "            \n",
    "            \n",
    "            \"\"\"# Write counts data to a text file\n",
    "            with open('counts_data.txt', 'a') as file:\n",
    "                file.write(f\"i={i}j={j}k={k}\")\n",
    "                file.write(\"State,Count\\n\")\n",
    "                for state, count in counts.items():\n",
    "                    file.write(f\"{state},{count}\\n\")\n",
    "            if(printToConsole):\n",
    "                # Print counts data\n",
    "                print(counts)\n",
    "                print(\"State,Count\\n\")\n",
    "                for state, count in counts.items():\n",
    "                    print(f\"{state},{count}\\n\")\n",
    "                #plot_histogram(counts)\"\"\"\n",
    "print(\"All done\")"
   ]
  },
  {
   "cell_type": "code",
   "execution_count": null,
   "id": "535b8541-5b6e-4579-9b43-f39584acc330",
   "metadata": {},
   "outputs": [],
   "source": []
  }
 ],
 "metadata": {
  "kernelspec": {
   "display_name": "Qiskit v1.0.2 (ipykernel)",
   "language": "python",
   "name": "python3"
  },
  "language_info": {
   "codemirror_mode": {
    "name": "ipython",
    "version": 3
   },
   "file_extension": ".py",
   "mimetype": "text/x-python",
   "name": "python",
   "nbconvert_exporter": "python",
   "pygments_lexer": "ipython3",
   "version": "3.10.8"
  },
  "widgets": {
   "application/vnd.jupyter.widget-state+json": {
    "state": {
     "539e97d99de643a2bbc40788383b7554": {
      "model_module": "jupyter-vuetify",
      "model_module_version": "2.0.0",
      "model_name": "ThemeColorsModel",
      "state": {
       "_theme_name": "light",
       "_view_name": "ErrorWidgetView",
       "accent": "#82B1FF",
       "error": {},
       "info": "#2196F3",
       "msg": "Failed to load model class 'ThemeColorsModel' from module 'jupyter-vuetify'",
       "primary": "#1976D2",
       "secondary": "#424242",
       "success": "#4CAF50",
       "warning": "#FB8C00"
      }
     },
     "7c056a5f46e34b6781725f33ecfa3ee2": {
      "model_module": "jupyter-vue",
      "model_module_version": "2.0.0",
      "model_name": "ForceLoadModel",
      "state": {
       "_view_name": "ErrorWidgetView",
       "error": {},
       "layout": "IPY_MODEL_6a45a0a56f7e4d21a0c9caf0cf188f04",
       "msg": "Failed to load model class 'ForceLoadModel' from module 'jupyter-vue'"
      }
     },
     "8a31d620a5274d80b94d5fee42c928b1": {
      "model_module": "jupyter-vuetify",
      "model_module_version": "2.0.0",
      "model_name": "ThemeColorsModel",
      "state": {
       "_theme_name": "dark",
       "_view_name": "ErrorWidgetView",
       "accent": "#FF4081",
       "error": {},
       "info": "#2196F3",
       "msg": "Failed to load model class 'ThemeColorsModel' from module 'jupyter-vuetify'",
       "primary": "#2196F3",
       "secondary": "#424242",
       "success": "#4CAF50",
       "warning": "#FB8C00"
      }
     },
     "f172239be1724b1a90c9ab6fe6fddb09": {
      "model_module": "jupyter-vuetify",
      "model_module_version": "2.0.0",
      "model_name": "ThemeModel",
      "state": {
       "_view_name": "ErrorWidgetView",
       "dark_effective": true,
       "error": {},
       "msg": "Failed to load model class 'ThemeModel' from module 'jupyter-vuetify'"
      }
     }
    },
    "version_major": 2,
    "version_minor": 0
   }
  }
 },
 "nbformat": 4,
 "nbformat_minor": 5
}
