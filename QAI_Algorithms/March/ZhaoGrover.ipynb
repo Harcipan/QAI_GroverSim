{
 "cells": [
  {
   "cell_type": "code",
   "execution_count": 1,
   "id": "ceba19a7-93dd-4616-9ee5-fa425ec2ded0",
   "metadata": {
    "tags": []
   },
   "outputs": [
    {
     "name": "stdout",
     "output_type": "stream",
     "text": [
      "Traceback \u001b[1;36m(most recent call last)\u001b[0m:\n",
      "\u001b[0m  Cell \u001b[0;32mIn[1], line 63\u001b[0m\n",
      "    oracle = create_oracle(n, marked_states)\u001b[0m\n",
      "\u001b[0m  Cell \u001b[0;32mIn[1], line 12\u001b[0m in \u001b[0;35mcreate_oracle\u001b[0m\n",
      "    oracle.z(state)\u001b[0m\n",
      "\u001b[0m  File \u001b[0;32m/opt/conda/lib/python3.10/site-packages/qiskit/circuit/quantumcircuit.py:3877\u001b[0m in \u001b[0;35mz\u001b[0m\n",
      "    return self.append(ZGate(), [qubit], [])\u001b[0m\n",
      "\u001b[0m  File \u001b[0;32m/opt/conda/lib/python3.10/site-packages/qiskit/circuit/quantumcircuit.py:1270\u001b[0m in \u001b[0;35mappend\u001b[0m\n",
      "    expanded_qargs = [self.qbit_argument_conversion(qarg) for qarg in qargs or []]\u001b[0m\n",
      "\u001b[0m  File \u001b[0;32m/opt/conda/lib/python3.10/site-packages/qiskit/circuit/quantumcircuit.py:1270\u001b[0m in \u001b[0;35m<listcomp>\u001b[0m\n",
      "    expanded_qargs = [self.qbit_argument_conversion(qarg) for qarg in qargs or []]\u001b[0m\n",
      "\u001b[0m  File \u001b[0;32m/opt/conda/lib/python3.10/site-packages/qiskit/circuit/quantumcircuit.py:1185\u001b[0m in \u001b[0;35mqbit_argument_conversion\u001b[0m\n",
      "    return _bit_argument_conversion(\u001b[0m\n",
      "\u001b[1;36m  File \u001b[1;32m/opt/conda/lib/python3.10/site-packages/qiskit/circuit/quantumcircuit.py:5074\u001b[1;36m in \u001b[1;35m_bit_argument_conversion\u001b[1;36m\n",
      "\u001b[1;33m    raise CircuitError(\u001b[1;36m\n",
      "\u001b[1;31mCircuitError\u001b[0m\u001b[1;31m:\u001b[0m 'Index 4 out of range for size 3.'\n",
      "\n",
      "Use %tb to get the full traceback.\n"
     ]
    },
    {
     "data": {
      "text/html": [
       "\n",
       "<style>\n",
       ".button {\n",
       "  border: none;\n",
       "  color: white;\n",
       "  padding: 4px 8px;\n",
       "  text-align: center;\n",
       "  text-decoration: none;\n",
       "  display: inline-block;\n",
       "  font-size: 12px;\n",
       "  margin: 4px 2px;\n",
       "  transition-duration: 0.2s;\n",
       "  cursor: pointer;\n",
       "}\n",
       ".iqx-button {\n",
       "  background-color: #0f62fe; \n",
       "  color: white; \n",
       "}\n",
       ".iqx-button:hover {\n",
       "  background-color: #0043ce;\n",
       "  color: white;\n",
       "}\n",
       "</style>\n",
       "<a href=\"https://stackoverflow.com/search?q=CircuitError: Index 4 out of range for size 3.\" target='_blank'><button class='button iqx-button'>Search for solution online</button></a>\n"
      ],
      "text/plain": [
       "<IPython.core.display.HTML object>"
      ]
     },
     "metadata": {},
     "output_type": "display_data"
    }
   ],
   "source": [
    "from qiskit import QuantumCircuit, transpile, assemble\n",
    "from qiskit_aer import AerSimulator \n",
    "from qiskit.visualization import plot_histogram\n",
    "\n",
    "\n",
    "# Define the function to create the oracle\n",
    "def create_oracle(n, marked_states):\n",
    "    oracle = QuantumCircuit(n)\n",
    "    \n",
    "    # Apply Z gate to the qubits corresponding to the marked states\n",
    "    for state in marked_states:\n",
    "        oracle.z(state)\n",
    "    \n",
    "    # Apply controlled-Z gates for diffusion\n",
    "    if n > 2:\n",
    "        oracle.h(range(n))\n",
    "        oracle.x(range(n))\n",
    "        oracle.h(n-1)\n",
    "        oracle.mct(list(range(n-1)), n-1)\n",
    "        oracle.h(n-1)\n",
    "        oracle.x(range(n))\n",
    "        oracle.h(range(n))\n",
    "    \n",
    "    return oracle\n",
    "\n",
    "# Define the function to create the Grover's diffusion operator\n",
    "def create_diffusion(n):\n",
    "    diffusion = QuantumCircuit(n)\n",
    "    \n",
    "    diffusion.h(range(n))\n",
    "    diffusion.x(range(n))\n",
    "    diffusion.h(n-1)\n",
    "    diffusion.mct(list(range(n-1)), n-1)\n",
    "    diffusion.h(n-1)\n",
    "    diffusion.x(range(n))\n",
    "    diffusion.h(range(n))\n",
    "    \n",
    "    return diffusion\n",
    "\n",
    "# Define the function to apply Grover's algorithm\n",
    "def grover_algorithm(oracle, diffusion, n, marked_states, num_iterations):\n",
    "    grover_circuit = QuantumCircuit(n)\n",
    "\n",
    "    # Apply Hadamard gates to all qubits\n",
    "    grover_circuit.h(range(n))\n",
    "    \n",
    "    # Apply the Grover iterations\n",
    "    for _ in range(num_iterations):\n",
    "        grover_circuit.append(oracle, range(n))\n",
    "        grover_circuit.append(diffusion, range(n))\n",
    "\n",
    "    # Measure all qubits\n",
    "    grover_circuit.measure_all()\n",
    "\n",
    "    return grover_circuit\n",
    "\n",
    "# Define the marked states and the number of qubits\n",
    "n = 3\n",
    "marked_states = [4, 7]  # Corresponding to |100⟩ and |111⟩\n",
    "num_iterations = 1\n",
    "\n",
    "# Create the oracle and the diffusion operator\n",
    "oracle = create_oracle(n, marked_states)\n",
    "diffusion = create_diffusion(n)\n",
    "\n",
    "# Apply Grover's algorithm\n",
    "grover_circuit = grover_algorithm(oracle, diffusion, n, marked_states, num_iterations)\n",
    "\n",
    "# Draw the circuit\n",
    "print(grover_circuit.draw())\n",
    "\n",
    "# Simulate the circuit\n",
    "simulator = AerSimulator()\n",
    "grover_transpiled = transpile(grover_circuit, simulator)\n",
    "qobj = assemble(grover_transpiled)\n",
    "result = simulator.run(qobj).result()\n",
    "\n",
    "# Plot the histogram of the result\n",
    "counts = result.get_counts()\n",
    "print(counts)\n",
    "plot_histogram(counts)\n"
   ]
  },
  {
   "cell_type": "code",
   "execution_count": null,
   "id": "1e43aef8-3574-46a4-9860-4465c6798423",
   "metadata": {},
   "outputs": [],
   "source": []
  },
  {
   "cell_type": "code",
   "execution_count": null,
   "id": "94d34b3c-8807-4251-ade5-a146cfcccb22",
   "metadata": {},
   "outputs": [],
   "source": []
  },
  {
   "cell_type": "code",
   "execution_count": null,
   "id": "7937c311-d9a3-4d66-ac89-24a8b84d1ec0",
   "metadata": {},
   "outputs": [],
   "source": []
  },
  {
   "cell_type": "code",
   "execution_count": null,
   "id": "daad2626-b911-4140-8c5b-8531c58f5e72",
   "metadata": {},
   "outputs": [],
   "source": []
  }
 ],
 "metadata": {
  "kernelspec": {
   "display_name": "Qiskit v1.0.1 (ipykernel)",
   "language": "python",
   "name": "python3"
  },
  "language_info": {
   "codemirror_mode": {
    "name": "ipython",
    "version": 3
   },
   "file_extension": ".py",
   "mimetype": "text/x-python",
   "name": "python",
   "nbconvert_exporter": "python",
   "pygments_lexer": "ipython3",
   "version": "3.10.8"
  },
  "widgets": {
   "application/vnd.jupyter.widget-state+json": {
    "state": {},
    "version_major": 2,
    "version_minor": 0
   }
  }
 },
 "nbformat": 4,
 "nbformat_minor": 5
}
