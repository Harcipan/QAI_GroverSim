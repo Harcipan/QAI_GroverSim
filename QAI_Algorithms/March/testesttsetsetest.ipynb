{
 "cells": [
  {
   "cell_type": "code",
   "execution_count": 1,
   "id": "81ae6f8d-c726-4621-ba85-d783776ba503",
   "metadata": {
    "tags": []
   },
   "outputs": [
    {
     "name": "stderr",
     "output_type": "stream",
     "text": [
      "qiskit_runtime_service.__init__:INFO:2024-03-08 14:34:26,801: Default instance: ibm-q/open/main\n"
     ]
    }
   ],
   "source": [
    "# Importing standard Qiskit libraries\n",
    "from qiskit import QuantumCircuit, transpile\n",
    "from qiskit.visualization import *\n",
    "from ibm_quantum_widgets import *\n",
    "\n",
    "# qiskit-ibmq-provider has been deprecated.\n",
    "# Please see the Migration Guides in https://ibm.biz/provider_migration_guide for more detail.\n",
    "from qiskit_ibm_runtime import QiskitRuntimeService, Sampler, Estimator, Session, Options\n",
    "\n",
    "# Loading your IBM Quantum account(s)\n",
    "service = QiskitRuntimeService(channel=\"ibm_quantum\")\n",
    "\n",
    "# Invoke a primitive. For more details see https://docs.quantum.ibm.com/run/primitives\n",
    "# result = Sampler().run(circuits).result()"
   ]
  },
  {
   "cell_type": "code",
   "execution_count": 1,
   "id": "746d086b-c266-412f-917d-296c4a91b4bb",
   "metadata": {
    "tags": []
   },
   "outputs": [
    {
     "name": "stdout",
     "output_type": "stream",
     "text": [
      "1.0.2\n"
     ]
    }
   ],
   "source": [
    "import qiskit\n",
    "print(qiskit.__version__)\n"
   ]
  },
  {
   "cell_type": "code",
   "execution_count": 2,
   "id": "f7a52d54-d776-453b-bd0a-1c135b55b5cb",
   "metadata": {
    "tags": []
   },
   "outputs": [
    {
     "name": "stdout",
     "output_type": "stream",
     "text": [
      "Traceback \u001b[1;36m(most recent call last)\u001b[0m:\n",
      "\u001b[1;36m  Cell \u001b[1;32mIn[2], line 10\u001b[1;36m\n",
      "\u001b[1;33m    from qiskit import BasicAer\u001b[1;36m\n",
      "\u001b[1;31mImportError\u001b[0m\u001b[1;31m:\u001b[0m cannot import name 'BasicAer' from 'qiskit' (/opt/conda/lib/python3.10/site-packages/qiskit/__init__.py)\n",
      "\n",
      "Use %tb to get the full traceback.\n"
     ]
    },
    {
     "data": {
      "text/html": [
       "\n",
       "<style>\n",
       ".button {\n",
       "  border: none;\n",
       "  color: white;\n",
       "  padding: 4px 8px;\n",
       "  text-align: center;\n",
       "  text-decoration: none;\n",
       "  display: inline-block;\n",
       "  font-size: 12px;\n",
       "  margin: 4px 2px;\n",
       "  transition-duration: 0.2s;\n",
       "  cursor: pointer;\n",
       "}\n",
       ".iqx-button {\n",
       "  background-color: #0f62fe; \n",
       "  color: white; \n",
       "}\n",
       ".iqx-button:hover {\n",
       "  background-color: #0043ce;\n",
       "  color: white;\n",
       "}\n",
       "</style>\n",
       "<a href=\"https://stackoverflow.com/search?q=ImportError: cannot import name 'BasicAer' from 'qiskit' (/opt/conda/lib/python3.10/site-packages/qiskit/__init__.py)\" target='_blank'><button class='button iqx-button'>Search for solution online</button></a>\n"
      ],
      "text/plain": [
       "<IPython.core.display.HTML object>"
      ]
     },
     "metadata": {},
     "output_type": "display_data"
    }
   ],
   "source": [
    "from qiskit import QuantumCircuit\n",
    " \n",
    "qc = QuantumCircuit(3)\n",
    "qc.h(0)\n",
    "qc.h(1)\n",
    "qc.cx(1, 2)\n",
    "qc.measure_all()\n",
    " \n",
    "# Previous\n",
    "from qiskit import BasicAer\n",
    "backend = BasicAer.get_backend(\"statevector_simulator\")\n",
    "statevector = backend.run(qc).result().get_statevector()\n",
    " \n",
    "# Current\n",
    "qc.remove_final_measurements()  # no measurements allowed\n",
    "from qiskit.quantum_info import Statevector\n",
    "statevector = Statevector(qc)"
   ]
  },
  {
   "cell_type": "code",
   "execution_count": 9,
   "id": "9b7bd504-4edf-4725-bc30-1dc3eaa115da",
   "metadata": {
    "tags": []
   },
   "outputs": [
    {
     "name": "stdout",
     "output_type": "stream",
     "text": [
      "{'110': 272, '111': 270, '001': 223, '000': 259}\n",
      "h\n"
     ]
    },
    {
     "data": {
      "text/plain": [
       "'# Another current option is to specify it directly\\nfrom qiskit.providers.basic_provider import BasicSimulator\\nbackend = BasicSimulator()\\nresult = backend.run(qc).result()'"
      ]
     },
     "execution_count": 9,
     "metadata": {},
     "output_type": "execute_result"
    }
   ],
   "source": [
    "from qiskit import QuantumCircuit\n",
    "qc = QuantumCircuit(3)\n",
    "qc.h(0)\n",
    "qc.h(1)\n",
    "qc.cx(1, 2)\n",
    "qc.measure_all()\n",
    " \n",
    "\"\"\"# Previous\n",
    "from qiskit import BasicAer\n",
    "backend = BasicAer.get_backend(\"qasm_simulator\")\n",
    "result = backend.run(qc).result()\"\"\"\n",
    " \n",
    "# One current option\n",
    "from qiskit.providers.basic_provider import BasicProvider\n",
    "backend = BasicProvider().get_backend(\"basic_simulator\")\n",
    "result = backend.run(qc).result()\n",
    "\n",
    "\n",
    "\n",
    "# Get counts from the result\n",
    "counts = result.get_counts()\n",
    "\n",
    "from qiskit.visualization import plot_histogram\n",
    " \n",
    "print(counts)\n",
    "data = [counts]\n",
    "plot_histogram(data)\n",
    "print(\"h\")\n",
    "\"\"\"# Another current option is to specify it directly\n",
    "from qiskit.providers.basic_provider import BasicSimulator\n",
    "backend = BasicSimulator()\n",
    "result = backend.run(qc).result()\"\"\""
   ]
  },
  {
   "cell_type": "code",
   "execution_count": 11,
   "id": "36f0d4db-babb-43cc-ba0b-284a703b7204",
   "metadata": {
    "tags": []
   },
   "outputs": [
    {
     "data": {
      "image/png": "[encoded data removed]",
      "text/plain": [
       "<Figure size 700x500 with 1 Axes>"
      ]
     },
     "execution_count": 11,
     "metadata": {},
     "output_type": "execute_result"
    }
   ],
   "source": [
    "from qiskit import QuantumCircuit\n",
    "from qiskit.providers.basic_provider import BasicProvider\n",
    "from qiskit.visualization import plot_histogram\n",
    "\n",
    "# Create a quantum circuit\n",
    "qc = QuantumCircuit(3)\n",
    "qc.h(0)\n",
    "qc.h(1)\n",
    "qc.cx(1, 2)\n",
    "qc.measure_all()\n",
    "\n",
    "# Get the BasicSimulator backend from the BasicProvider\n",
    "backend = BasicProvider().get_backend(\"basic_simulator\")\n",
    "\n",
    "# Simulate the quantum circuit\n",
    "result = backend.run(qc).result()\n",
    "\n",
    "# Get counts from the result\n",
    "counts = result.get_counts()\n",
    "\n",
    "# Plot the histogram\n",
    "plot_histogram(counts)\n"
   ]
  },
  {
   "cell_type": "code",
   "execution_count": null,
   "id": "64cc4502-7c63-467d-a60f-a3f13c8f6ae0",
   "metadata": {},
   "outputs": [],
   "source": []
  }
 ],
 "metadata": {
  "kernelspec": {
   "display_name": "Qiskit v1.0.1 (ipykernel)",
   "language": "python",
   "name": "python3"
  },
  "language_info": {
   "codemirror_mode": {
    "name": "ipython",
    "version": 3
   },
   "file_extension": ".py",
   "mimetype": "text/x-python",
   "name": "python",
   "nbconvert_exporter": "python",
   "pygments_lexer": "ipython3",
   "version": "3.10.8"
  },
  "widgets": {
   "application/vnd.jupyter.widget-state+json": {
    "state": {},
    "version_major": 2,
    "version_minor": 0
   }
  }
 },
 "nbformat": 4,
 "nbformat_minor": 5
}
