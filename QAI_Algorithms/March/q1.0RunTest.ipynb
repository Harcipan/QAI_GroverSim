{
 "cells": [
  {
   "cell_type": "code",
   "execution_count": 1,
   "id": "f5165308-af0b-4b3c-b1c2-98282fe96b95",
   "metadata": {
    "tags": []
   },
   "outputs": [
    {
     "name": "stderr",
     "output_type": "stream",
     "text": [
      "qiskit_runtime_service.__init__:INFO:2024-03-08 14:08:35,941: Default instance: ibm-q/open/main\n"
     ]
    }
   ],
   "source": [
    "# Importing standard Qiskit libraries\n",
    "from qiskit import QuantumCircuit, transpile\n",
    "from qiskit.visualization import *\n",
    "from ibm_quantum_widgets import *\n",
    "\n",
    "# qiskit-ibmq-provider has been deprecated.\n",
    "# Please see the Migration Guides in https://ibm.biz/provider_migration_guide for more detail.\n",
    "from qiskit_ibm_runtime import QiskitRuntimeService, Sampler, Estimator, Session, Options\n",
    "\n",
    "# Loading your IBM Quantum account(s)\n",
    "service = QiskitRuntimeService(channel=\"ibm_quantum\")\n",
    "\n",
    "# Invoke a primitive. For more details see https://docs.quantum.ibm.com/run/primitives\n",
    "# result = Sampler().run(circuits).result()"
   ]
  },
  {
   "cell_type": "code",
   "execution_count": 1,
   "id": "a42f7961-c8e5-4cb1-8158-937035ec6a46",
   "metadata": {
    "tags": []
   },
   "outputs": [
    {
     "name": "stdout",
     "output_type": "stream",
     "text": [
      "Traceback \u001b[1;36m(most recent call last)\u001b[0m:\n",
      "\u001b[1;36m  Cell \u001b[1;32mIn[1], line 32\u001b[1;36m\n",
      "\u001b[1;33m    counts = job.result()[0].data.meas.get_counts()\u001b[1;36m\n",
      "\u001b[1;31mTypeError\u001b[0m\u001b[1;31m:\u001b[0m 'Result' object is not subscriptable\n",
      "\n",
      "Use %tb to get the full traceback.\n"
     ]
    },
    {
     "data": {
      "text/html": [
       "\n",
       "<style>\n",
       ".button {\n",
       "  border: none;\n",
       "  color: white;\n",
       "  padding: 4px 8px;\n",
       "  text-align: center;\n",
       "  text-decoration: none;\n",
       "  display: inline-block;\n",
       "  font-size: 12px;\n",
       "  margin: 4px 2px;\n",
       "  transition-duration: 0.2s;\n",
       "  cursor: pointer;\n",
       "}\n",
       ".iqx-button {\n",
       "  background-color: #0f62fe; \n",
       "  color: white; \n",
       "}\n",
       ".iqx-button:hover {\n",
       "  background-color: #0043ce;\n",
       "  color: white;\n",
       "}\n",
       "</style>\n",
       "<a href=\"https://stackoverflow.com/search?q=TypeError: 'Result' object is not subscriptable\" target='_blank'><button class='button iqx-button'>Search for solution online</button></a>\n"
      ],
      "text/plain": [
       "<IPython.core.display.HTML object>"
      ]
     },
     "metadata": {},
     "output_type": "display_data"
    }
   ],
   "source": [
    "from qiskit import QuantumCircuit, ClassicalRegister, transpile\n",
    "from qiskit.providers.fake_provider import GenericBackendV2\n",
    " \n",
    "# Create a circuit with classical control\n",
    "creg = ClassicalRegister(19)\n",
    "qc = QuantumCircuit(25)\n",
    "qc.add_register(creg)\n",
    "qc.h(0)\n",
    "for i in range(18):\n",
    "    qc.cx(0, i + 1)\n",
    "for i in range(18):\n",
    "    qc.measure(i, creg[i])\n",
    "with qc.if_test((creg, 0)):\n",
    "    qc.ecr(20, 21)\n",
    " \n",
    "# Define backend with custom basis gates and \n",
    "# control flow instructions\n",
    "backend = GenericBackendV2(\n",
    "    num_qubits=25,\n",
    "    basis_gates=[\"ecr\", \"id\", \"rz\", \"sx\", \"x\"],\n",
    "    control_flow=True,\n",
    "  )\n",
    " \n",
    "#Transpile\n",
    "transpiled_qc = transpile(qc, backend)\n",
    "\n",
    "job = backend.run(transpiled_qc)\n",
    "#job = execute(qc, simulator, shots=1024)\n",
    "# Wait for the job to finish\n",
    "job_result = job.result()\n",
    "# Get counts from the result\n",
    "counts = job.result()[0].data.meas.get_counts()\n",
    "#counts = job_result.get_counts()\n",
    "\"\"\"# Plot the histogram\n",
    "plot_histogram(counts)\"\"\""
   ]
  },
  {
   "cell_type": "code",
   "execution_count": null,
   "id": "490d45da-fbf5-4805-a389-e9ca6f735edf",
   "metadata": {},
   "outputs": [],
   "source": []
  }
 ],
 "metadata": {
  "kernelspec": {
   "display_name": "Qiskit v1.0.1 (ipykernel)",
   "language": "python",
   "name": "python3"
  },
  "language_info": {
   "codemirror_mode": {
    "name": "ipython",
    "version": 3
   },
   "file_extension": ".py",
   "mimetype": "text/x-python",
   "name": "python",
   "nbconvert_exporter": "python",
   "pygments_lexer": "ipython3",
   "version": "3.10.8"
  },
  "widgets": {
   "application/vnd.jupyter.widget-state+json": {
    "state": {},
    "version_major": 2,
    "version_minor": 0
   }
  }
 },
 "nbformat": 4,
 "nbformat_minor": 5
}
