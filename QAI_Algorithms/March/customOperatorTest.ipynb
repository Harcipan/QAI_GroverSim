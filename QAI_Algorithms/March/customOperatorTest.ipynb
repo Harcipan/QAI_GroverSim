{
 "cells": [
  {
   "cell_type": "code",
   "execution_count": 2,
   "id": "155c6317-b015-4075-ade2-5ace567bfdf2",
   "metadata": {
    "tags": []
   },
   "outputs": [],
   "source": [
    "from qiskit import transpile, QuantumCircuit\n",
    "import qiskit.quantum_info as qi\n",
    "\n",
    "from qiskit_aer import AerSimulator\n",
    "from qiskit_aer.noise import NoiseModel, amplitude_damping_error\n",
    "\n",
    "from qiskit.visualization import plot_histogram"
   ]
  },
  {
   "cell_type": "code",
   "execution_count": 3,
   "id": "610b84c6-a7b1-4f48-8b76-315c88b4b2ca",
   "metadata": {
    "tags": []
   },
   "outputs": [],
   "source": [
    "# CNOT matrix operator with qubit-0 as control and qubit-1 as target\n",
    "g_op = qi.Operator([[-1/2, 1/2, -1/2, 1/2],\n",
    "                     [1/2, -1/2, -1/2, 1/2],\n",
    "                     [1/2,1/2,1/2, 1/2],\n",
    "                     [1/2, 1/2, -1/2, -1/2]])"
   ]
  },
  {
   "cell_type": "code",
   "execution_count": null,
   "id": "99ba4d11-47b8-4418-ac0c-58375e4a63a3",
   "metadata": {},
   "outputs": [],
   "source": [
    "from qiskit import QuantumRegister, ClassicalRegister\n",
    "from qiskit import QuantumCircuit, execute, IBMQ\n",
    "from qiskit.tools.monitor import job_monitor\n",
    "from qiskit.circuit.library import QFT\n",
    "import numpy as np\n",
    "\n",
    "pi = np.pi\n",
    "\n",
    "# IBMQ.enable_account('ENTER API KEY HERE')\n",
    "provider = IBMQ.get_provider(hub='ibm-q')\n",
    "\n",
    "backend = provider.get_backend('ibmq_qasm_simulator')\n",
    "\n",
    "q = QuantumRegister(3, 'q')\n",
    "c = ClassicalRegister(3, 'c')\n",
    "\n",
    "circuit = QuantumCircuit(q, c)\n",
    "\n",
    "circuit.h(q[2])\n",
    "circuit.h(q[1])\n",
    "circuit.h(q[0])\n",
    "\n",
    "qft_gate = QFT(num_qubits=3, approximation_degree=0, do_swaps=True, inverse=False, insert_barriers=False, name='qft')\n",
    "circuit.append(qft_gate, q)\n",
    "circuit.measure(q, c)\n",
    "circuit.draw(output='mpl', filename='qft1.png')\n",
    "print(circuit)\n",
    "\n",
    "job = execute(circuit, backend, shots=1000)\n",
    "\n",
    "job_monitor(job)\n",
    "\n",
    "counts = job.result().get_counts()\n",
    "\n",
    "print(\"\\n QFT Output\")\n",
    "print(\"-------------\")\n",
    "print(counts)"
   ]
  },
  {
   "cell_type": "code",
   "execution_count": 15,
   "id": "96836532-7f01-4746-b860-30f77a4cdeea",
   "metadata": {
    "tags": []
   },
   "outputs": [
    {
     "name": "stdout",
     "output_type": "stream",
     "text": [
      "          ┌───┐┌────────────┐┌───────┐┌─┐         \n",
      " upper_0: ┤ H ├┤0           ├┤0      ├┤M├─────────\n",
      "          ├───┤│            ││       │└╥┘┌─┐      \n",
      " upper_1: ┤ H ├┤            ├┤1      ├─╫─┤M├──────\n",
      "          ├───┤│            ││  IQFT │ ║ └╥┘┌─┐   \n",
      " upper_2: ┤ H ├┤            ├┤2      ├─╫──╫─┤M├───\n",
      "          ├───┤│            ││       │ ║  ║ └╥┘┌─┐\n",
      " upper_3: ┤ H ├┤            ├┤3      ├─╫──╫──╫─┤M├\n",
      "          └───┘│            │└───────┘ ║  ║  ║ └╥┘\n",
      "bottom_0: ─────┤  grover_op ├──────────╫──╫──╫──╫─\n",
      "               │            │          ║  ║  ║  ║ \n",
      "bottom_1: ─────┤            ├──────────╫──╫──╫──╫─\n",
      "               │            │          ║  ║  ║  ║ \n",
      "bottom_2: ─────┤            ├──────────╫──╫──╫──╫─\n",
      "               │            │          ║  ║  ║  ║ \n",
      "bottom_3: ─────┤            ├──────────╫──╫──╫──╫─\n",
      "               │            │          ║  ║  ║  ║ \n",
      " ancilla: ─────┤1           ├──────────╫──╫──╫──╫─\n",
      "               └────────────┘          ║  ║  ║  ║ \n",
      "  creg: 4/═════════════════════════════╩══╩══╩══╩═\n",
      "                                       0  1  2  3 \n"
     ]
    },
    {
     "data": {
      "image/png": "[encoded data removed]",
      "text/plain": [
       "<Figure size 700x500 with 1 Axes>"
      ]
     },
     "execution_count": 15,
     "metadata": {},
     "output_type": "execute_result"
    }
   ],
   "source": [
    "from qiskit import QuantumRegister, ClassicalRegister, QuantumCircuit\n",
    "from qiskit.visualization import plot_histogram\n",
    "from math import pi\n",
    "from qiskit.circuit.library import QFT\n",
    "\n",
    "# Example usage\n",
    "N = 15\n",
    "t=4 # log_2(N) upper limit\n",
    "n=t\n",
    "# Create quantum registers\n",
    "upper_register = QuantumRegister(n, 'upper')\n",
    "bottom_register = QuantumRegister(t, 'bottom')\n",
    "ancilla = QuantumRegister(1, 'ancilla')\n",
    "classical_reg = ClassicalRegister(n, 'creg')\n",
    "\n",
    "# Construct quantum circuit\n",
    "qc = QuantumCircuit(upper_register, bottom_register, ancilla, classical_reg)\n",
    "\n",
    "# Apply Hadamard gates on upper register\n",
    "qc.h(upper_register)\n",
    "\n",
    "qc.unitary(g_op, [0, 8], label='grover_op')\n",
    "\n",
    "# Apply Inverse Quantum Fourier Transform (IQFT)\n",
    "qc.append(QFT(n, inverse=True), upper_register)\n",
    "\n",
    "# Measure upper register\n",
    "qc.measure(upper_register, classical_reg)\n",
    "\n",
    "print(qc)\n",
    "\n",
    "sim_ideal = AerSimulator()\n",
    "tbell_circ = transpile(qc, sim_ideal)\n",
    "\n",
    "ideal_result = sim_ideal.run(tbell_circ).result()\n",
    "ideal_counts = ideal_result.get_counts(0)\n",
    "plot_histogram(ideal_counts,\n",
    "               title='Ideal output for gOp')\n",
    "\n"
   ]
  },
  {
   "cell_type": "code",
   "execution_count": null,
   "id": "5afc9a6b-9fbc-4fcc-8bd9-c1e8f3efff7d",
   "metadata": {},
   "outputs": [],
   "source": []
  }
 ],
 "metadata": {
  "kernelspec": {
   "display_name": "Qiskit v1.0.1 (ipykernel)",
   "language": "python",
   "name": "python3"
  },
  "language_info": {
   "codemirror_mode": {
    "name": "ipython",
    "version": 3
   },
   "file_extension": ".py",
   "mimetype": "text/x-python",
   "name": "python",
   "nbconvert_exporter": "python",
   "pygments_lexer": "ipython3",
   "version": "3.10.8"
  },
  "widgets": {
   "application/vnd.jupyter.widget-state+json": {
    "state": {},
    "version_major": 2,
    "version_minor": 0
   }
  }
 },
 "nbformat": 4,
 "nbformat_minor": 5
}
