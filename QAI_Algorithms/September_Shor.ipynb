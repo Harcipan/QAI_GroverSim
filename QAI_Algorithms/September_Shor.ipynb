{
 "cells": [
  {
   "cell_type": "code",
   "execution_count": 1,
   "id": "12fa54d1-3eb2-409e-addf-826fe3c32b7e",
   "metadata": {
    "tags": []
   },
   "outputs": [],
   "source": [
    "# Standard Qiskit könyvtárak importálása\n",
    "from qiskit import QuantumCircuit, transpile\n",
    "from qiskit.tools.jupyter import *\n",
    "from qiskit.visualization import *\n",
    "from ibm_quantum_widgets import *\n",
    "from qiskit_ibm_runtime import QiskitRuntimeService, Sampler, Estimator, Session, Options\n",
    "\n",
    "# IBM Quantum fiókok betöltése\n",
    "service = QiskitRuntimeService(channel=\"ibm_quantum\")"
   ]
  },
  {
   "cell_type": "code",
   "execution_count": 16,
   "id": "d2a269e4-7513-420b-a0bb-6eda393c9aae",
   "metadata": {
    "tags": []
   },
   "outputs": [
    {
     "name": "stdout",
     "output_type": "stream",
     "text": [
      "     ┌───┐          \n",
      "q_0: ┤ H ├──■───────\n",
      "     └───┘┌─┴─┐     \n",
      "q_1: ─────┤ X ├──■──\n",
      "          └───┘┌─┴─┐\n",
      "q_2: ──────────┤ X ├\n",
      "               └───┘\n",
      "     ┌───┐     ┌───┐┌───┐\n",
      "q_0: ┤ H ├──■──┤ I ├┤ H ├\n",
      "     └───┘┌─┴─┐└───┘├───┤\n",
      "q_1: ─────┤ X ├──■──┤ H ├\n",
      "          └───┘┌─┴─┐├───┤\n",
      "q_2: ──────────┤ X ├┤ H ├\n",
      "               └───┘└───┘\n"
     ]
    }
   ],
   "source": [
    "from qiskit import QuantumCircuit, Aer, transpile, assemble\n",
    "\n",
    "# Create a quantum register with 3 qubits\n",
    "qr = QuantumCircuit(3)\n",
    "\n",
    "# Example circuit using the quantum register\n",
    "qr.h(0)\n",
    "qr.cx(0, 1)\n",
    "qr.cx(1, 2)\n",
    "\n",
    "print(qr)\n",
    "\n",
    "qr.i(0)# egy sorba legyenek a h kapuk\n",
    "qr.h([0, 1, 2])\n",
    "\n",
    "print(qr)\n"
   ]
  },
  {
   "cell_type": "code",
   "execution_count": 2,
   "id": "9b0d2f7e-fbc7-4a17-9a07-fd7b94f488d5",
   "metadata": {
    "tags": []
   },
   "outputs": [
    {
     "name": "stdout",
     "output_type": "stream",
     "text": [
      "{'0001': 7, '1110': 8, '1111': 4, '0101': 9, '1001': 7, '0110': 2, '1000': 10, '1100': 7, '1101': 10, '1011': 10, '0011': 9, '0111': 10, '0100': 11, '0000': 10, '0010': 6, '1010': 8}\n"
     ]
    }
   ],
   "source": [
    "from qiskit import QuantumCircuit, Aer, execute\n",
    "\n",
    "# Kvantumáramkör létrehozása megfelelő kvantum bitekkel és segéd bitekkel\n",
    "n = 4  # A N számhoz szükséges kvantumbitek száma\n",
    "circuit = QuantumCircuit(n + 1, n)\n",
    "\n",
    "# Moduláris kitevőkivonatkozás megvalósítása\n",
    "a = 7  # Válassz egy véletlenszerű 'a' értéket\n",
    "x = 3  # Válassz egy 'x' értéket\n",
    "N = 15  # Az faktorizálni kívánt egész szám\n",
    "\n",
    "for i in range(n):\n",
    "    circuit.h(i)  # Hadamard kapuk alkalmazása szuperpozíció létrehozásához\n",
    "circuit.x(n)  # Az segéd qubit beállítása |1>-re\n",
    "\n",
    "for i in range(2 ** n):\n",
    "    # Valósítsd meg a moduláris kitevőkivonatkozási áramkört itt\n",
    "    binary_x = format(i, f\"0{n}b\")\n",
    "    for j, bit in enumerate(binary_x):\n",
    "        if bit == '1':\n",
    "            circuit.cx(j, n)\n",
    "    circuit.barrier()\n",
    "    for _ in range(x):\n",
    "        # Valósítsd meg az 'a' moduláris szorzatát\n",
    "        # Például, ha a = 7, ez sorozat lesz kontrollált-nem (CNOT) kapukból\n",
    "        # és kontrollált-fázis kapukból, 'a' értékétől függően\n",
    "        # Ezt a részt az 'a' értékének megfelelően kell megvalósítani\n",
    "        # Ebben az egyszerűsített példában feltételezzük, hogy a = 7, amihez CNOT kapuk sorozata szükséges.\n",
    "        circuit.cx(0, n)  # Kontrollált-X kapu\n",
    "        circuit.barrier()\n",
    "    circuit.barrier()\n",
    "    # Visszafejtés 'a^x' része\n",
    "    for j, bit in enumerate(binary_x):\n",
    "        if bit == '1':\n",
    "            circuit.cx(j, n)\n",
    "    circuit.barrier()\n",
    "\n",
    "# Mérjük meg a kvantumáramkört\n",
    "circuit.measure(range(n), range(n))\n",
    "\n",
    "# Szimuláljuk a kvantumáramkört a mérések eredményeinek eléréséhez\n",
    "szimulátor = Aer.get_backend('qasm_simulator')\n",
    "feladat = execute(circuit, szimulátor, shots=128)\n",
    "eredmény = feladat.result()\n",
    "számok = eredmény.get_counts(circuit)\n",
    "\n",
    "print(számok)"
   ]
  },
  {
   "cell_type": "code",
   "execution_count": 3,
   "id": "eaca3c37-73a0-4da8-a069-1508be070185",
   "metadata": {
    "tags": []
   },
   "outputs": [
    {
     "data": {
      "image/png": "[encoded data removed]",
      "text/plain": [
       "<Figure size 700x500 with 1 Axes>"
      ]
     },
     "execution_count": 3,
     "metadata": {},
     "output_type": "execute_result"
    }
   ],
   "source": [
    "from qiskit import QuantumCircuit, transpile, assemble, Aer, execute\n",
    "from qiskit.visualization import plot_histogram\n",
    "from math import pi\n",
    "\n",
    "# Qubits számának meghatározása\n",
    "num_qubits = 3\n",
    "\n",
    "# Kvantum áramkör létrehozása 'num_qubits' qubittel\n",
    "iqft_circuit = QuantumCircuit(num_qubits)\n",
    "\n",
    "# Az inverz QFT alkalmazása a 'num_qubits' qubitekre\n",
    "for qubit in range(num_qubits):\n",
    "    for j in range(qubit):\n",
    "        iqft_circuit.cp(-pi/float(2**(qubit-j)), j, qubit)\n",
    "    iqft_circuit.h(qubit)\n",
    "\n",
    "# Mérések hozzáadása az áramkörhöz\n",
    "iqft_circuit.measure_all()\n",
    "\n",
    "# Most futtathatod az Inverz QFT áramkört egy szimulátoron vagy egy valós kvantum eszközön\n",
    "simulator = Aer.get_backend('qasm_simulator')\n",
    "munka = execute(iqft_circuit, simulator, shots=1024)\n",
    "eredmeny = munka.result()\n",
    "szamlalok = eredmeny.get_counts()\n",
    "\n",
    "# Az eredmények megjelenítése\n",
    "plot_histogram(szamlalok)\n"
   ]
  },
  {
   "cell_type": "code",
   "execution_count": null,
   "id": "fff2f4f7-37c0-4f81-aa6a-6d97c2f65b95",
   "metadata": {},
   "outputs": [],
   "source": []
  }
 ],
 "metadata": {
  "kernelspec": {
   "display_name": "Python 3 (ipykernel)",
   "language": "python",
   "name": "python3"
  },
  "language_info": {
   "codemirror_mode": {
    "name": "ipython",
    "version": 3
   },
   "file_extension": ".py",
   "mimetype": "text/x-python",
   "name": "python",
   "nbconvert_exporter": "python",
   "pygments_lexer": "ipython3",
   "version": "3.10.8"
  },
  "widgets": {
   "application/vnd.jupyter.widget-state+json": {
    "state": {
     "02efbf5441b9417c9af79f4613e350af": {
      "model_module": "@jupyter-widgets/controls",
      "model_module_version": "2.0.0",
      "model_name": "ButtonModel",
      "state": {
       "button_style": "primary",
       "description": "Clear",
       "layout": "IPY_MODEL_9994921cb136427fb90874d7902feb85",
       "style": "IPY_MODEL_ab2d2fecb2a04fb7a165c212ca94b4e2",
       "tooltip": null
      }
     },
     "0d19185ba522472b864f93409c1ee1c2": {
      "model_module": "@jupyter-widgets/base",
      "model_module_version": "2.0.0",
      "model_name": "LayoutModel",
      "state": {
       "width": "190px"
      }
     },
     "0d9d3084349147ed9a82aef3b53188d7": {
      "model_module": "@jupyter-widgets/controls",
      "model_module_version": "2.0.0",
      "model_name": "HTMLStyleModel",
      "state": {
       "description_width": "",
       "font_size": null,
       "text_color": null
      }
     },
     "0f1ae191f0814a44bb128d9cf7ec68dd": {
      "model_module": "@jupyter-widgets/base",
      "model_module_version": "2.0.0",
      "model_name": "LayoutModel",
      "state": {
       "width": "145px"
      }
     },
     "306ecaf6ebbe47c29b46aefb77d13a8e": {
      "model_module": "@jupyter-widgets/controls",
      "model_module_version": "2.0.0",
      "model_name": "HTMLStyleModel",
      "state": {
       "description_width": "",
       "font_size": null,
       "text_color": null
      }
     },
     "3510d43d88744087aa95410db8c488ee": {
      "model_module": "@jupyter-widgets/base",
      "model_module_version": "2.0.0",
      "model_name": "LayoutModel",
      "state": {
       "grid_template_areas": "\n                                       \". . . . right \"\n                                        ",
       "grid_template_columns": "20% 20% 20% 20% 20%",
       "width": "100%"
      }
     },
     "3ecd05d48b454deabeb064e0cdb4a02e": {
      "model_module": "@jupyter-widgets/controls",
      "model_module_version": "2.0.0",
      "model_name": "HTMLStyleModel",
      "state": {
       "description_width": "",
       "font_size": null,
       "text_color": null
      }
     },
     "4b708e0d95804bdcb792618ad5cf3d9b": {
      "model_module": "@jupyter-widgets/controls",
      "model_module_version": "2.0.0",
      "model_name": "HTMLStyleModel",
      "state": {
       "description_width": "",
       "font_size": null,
       "text_color": null
      }
     },
     "51bcc077610e452d9574eb9de839e7eb": {
      "model_module": "@jupyter-widgets/base",
      "model_module_version": "2.0.0",
      "model_name": "LayoutModel",
      "state": {
       "margin": "0px 0px 10px 0px"
      }
     },
     "67185bf3c7d6405c9af50bef37695b18": {
      "model_module": "@jupyter-widgets/base",
      "model_module_version": "2.0.0",
      "model_name": "LayoutModel",
      "state": {}
     },
     "814a80cbef8548a996fff1864e679449": {
      "model_module": "@jupyter-widgets/controls",
      "model_module_version": "2.0.0",
      "model_name": "HTMLStyleModel",
      "state": {
       "description_width": "",
       "font_size": null,
       "text_color": null
      }
     },
     "85d51aef028e4314b15f65551d302f8a": {
      "model_module": "@jupyter-widgets/controls",
      "model_module_version": "2.0.0",
      "model_name": "HTMLModel",
      "state": {
       "layout": "IPY_MODEL_0f1ae191f0814a44bb128d9cf7ec68dd",
       "style": "IPY_MODEL_4b708e0d95804bdcb792618ad5cf3d9b",
       "value": "<h5>Backend</h5>"
      }
     },
     "8b595bfc73f04b3bb54c4920f31a2c3c": {
      "model_module": "@jupyter-widgets/controls",
      "model_module_version": "2.0.0",
      "model_name": "HTMLModel",
      "state": {
       "layout": "IPY_MODEL_0d19185ba522472b864f93409c1ee1c2",
       "style": "IPY_MODEL_306ecaf6ebbe47c29b46aefb77d13a8e",
       "value": "<h5>Job ID</h5>"
      }
     },
     "8d1797a33b3b4de1b862d0fee6485302": {
      "model_module": "@jupyter-widgets/controls",
      "model_module_version": "2.0.0",
      "model_name": "HTMLModel",
      "state": {
       "layout": "IPY_MODEL_e7486f62f53f49b9a81953fafadaf2a8",
       "style": "IPY_MODEL_814a80cbef8548a996fff1864e679449",
       "value": "<h5>Status</h5>"
      }
     },
     "8ef6b1416ca84b1ba359662bf576ba8b": {
      "model_module": "@jupyter-widgets/controls",
      "model_module_version": "2.0.0",
      "model_name": "HTMLModel",
      "state": {
       "layout": "IPY_MODEL_67185bf3c7d6405c9af50bef37695b18",
       "style": "IPY_MODEL_c4fb029438f64dca96f750e9f63cf53e",
       "value": "<h5>Message</h5>"
      }
     },
     "94c81ef394ad4257bb308b5fe861fb6a": {
      "model_module": "@jupyter-widgets/base",
      "model_module_version": "2.0.0",
      "model_name": "LayoutModel",
      "state": {
       "width": "70px"
      }
     },
     "9994921cb136427fb90874d7902feb85": {
      "model_module": "@jupyter-widgets/base",
      "model_module_version": "2.0.0",
      "model_name": "LayoutModel",
      "state": {
       "grid_area": "right",
       "padding": "0px 0px 0px 0px",
       "width": "70px"
      }
     },
     "9cc93961a020453099df69549ffe1053": {
      "model_module": "@jupyter-widgets/controls",
      "model_module_version": "2.0.0",
      "model_name": "HTMLModel",
      "state": {
       "layout": "IPY_MODEL_51bcc077610e452d9574eb9de839e7eb",
       "style": "IPY_MODEL_3ecd05d48b454deabeb064e0cdb4a02e",
       "value": "<p style='font-family: IBM Plex Sans, Arial, Helvetica, sans-serif; font-size: 20px; font-weight: medium;'>Circuit Properties</p>"
      }
     },
     "aa974c7ff99b4caab27f1d3c401d95ff": {
      "model_module": "@jupyter-widgets/controls",
      "model_module_version": "2.0.0",
      "model_name": "HTMLModel",
      "state": {
       "layout": "IPY_MODEL_94c81ef394ad4257bb308b5fe861fb6a",
       "style": "IPY_MODEL_0d9d3084349147ed9a82aef3b53188d7",
       "value": "<h5>Queue</h5>"
      }
     },
     "ab2d2fecb2a04fb7a165c212ca94b4e2": {
      "model_module": "@jupyter-widgets/controls",
      "model_module_version": "2.0.0",
      "model_name": "ButtonStyleModel",
      "state": {
       "font_family": null,
       "font_size": null,
       "font_style": null,
       "font_variant": null,
       "font_weight": null,
       "text_color": null,
       "text_decoration": null
      }
     },
     "bbd0e3f2524a4fe5a25d1b3ba8589baa": {
      "model_module": "@jupyter-widgets/base",
      "model_module_version": "2.0.0",
      "model_name": "LayoutModel",
      "state": {
       "margin": "0px 0px 0px 37px",
       "width": "600px"
      }
     },
     "c4fb029438f64dca96f750e9f63cf53e": {
      "model_module": "@jupyter-widgets/controls",
      "model_module_version": "2.0.0",
      "model_name": "HTMLStyleModel",
      "state": {
       "description_width": "",
       "font_size": null,
       "text_color": null
      }
     },
     "e7486f62f53f49b9a81953fafadaf2a8": {
      "model_module": "@jupyter-widgets/base",
      "model_module_version": "2.0.0",
      "model_name": "LayoutModel",
      "state": {
       "width": "95px"
      }
     },
     "f6588a83e0584f6c88eb6b202653b542": {
      "model_module": "@jupyter-widgets/controls",
      "model_module_version": "2.0.0",
      "model_name": "GridBoxModel",
      "state": {
       "children": [
        "IPY_MODEL_02efbf5441b9417c9af79f4613e350af"
       ],
       "layout": "IPY_MODEL_3510d43d88744087aa95410db8c488ee"
      }
     },
     "f9c7629bf2e0427680f2a836664fa785": {
      "model_module": "@jupyter-widgets/controls",
      "model_module_version": "2.0.0",
      "model_name": "HBoxModel",
      "state": {
       "children": [
        "IPY_MODEL_8b595bfc73f04b3bb54c4920f31a2c3c",
        "IPY_MODEL_85d51aef028e4314b15f65551d302f8a",
        "IPY_MODEL_8d1797a33b3b4de1b862d0fee6485302",
        "IPY_MODEL_aa974c7ff99b4caab27f1d3c401d95ff",
        "IPY_MODEL_8ef6b1416ca84b1ba359662bf576ba8b"
       ],
       "layout": "IPY_MODEL_bbd0e3f2524a4fe5a25d1b3ba8589baa"
      }
     }
    },
    "version_major": 2,
    "version_minor": 0
   }
  }
 },
 "nbformat": 4,
 "nbformat_minor": 5
}
