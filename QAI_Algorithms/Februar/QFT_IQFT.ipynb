{
 "cells": [
  {
   "cell_type": "code",
   "execution_count": 3,
   "id": "38178340-942e-4dd5-888b-93e00176efcd",
   "metadata": {
    "tags": []
   },
   "outputs": [
    {
     "name": "stderr",
     "output_type": "stream",
     "text": [
      "qiskit_runtime_service.__init__:INFO:2024-02-01 09:23:58,720: Default instance: ibm-q/open/main\n"
     ]
    },
    {
     "data": {
      "text/plain": [
       "<AccountProvider for IBMQ(hub='ibm-q', group='open', project='main')>"
      ]
     },
     "execution_count": 3,
     "metadata": {},
     "output_type": "execute_result"
    }
   ],
   "source": [
    "# Importing standard Qiskit libraries\n",
    "from qiskit import QuantumCircuit, transpile\n",
    "from qiskit.tools.jupyter import *\n",
    "from qiskit.visualization import *\n",
    "from ibm_quantum_widgets import *\n",
    "\n",
    "# qiskit-ibmq-provider has been deprecated.\n",
    "# Please see the Migration Guides in https://ibm.biz/provider_migration_guide for more detail.\n",
    "from qiskit_ibm_runtime import QiskitRuntimeService, Sampler, Estimator, Session, Options\n",
    "\n",
    "# Loading your IBM Quantum account(s)\n",
    "service = QiskitRuntimeService(channel=\"ibm_quantum\")\n",
    "IBMQ.load_account()\n",
    "# Invoke a primitive. For more details see https://docs.quantum.ibm.com/run/primitives\n",
    "# result = Sampler().run(circuits).result()"
   ]
  },
  {
   "cell_type": "code",
   "execution_count": 6,
   "id": "80cbe8d9-a845-4aa8-ad53-543031aa3e22",
   "metadata": {
    "tags": []
   },
   "outputs": [
    {
     "name": "stdout",
     "output_type": "stream",
     "text": [
      "     ┌───┐┌──────┐┌─┐            \n",
      "q_0: ┤ X ├┤0     ├┤M├────────────\n",
      "     └───┘│      │└╥┘┌─┐         \n",
      "q_1: ─────┤1     ├─╫─┤M├─────────\n",
      "     ┌───┐│      │ ║ └╥┘┌─┐      \n",
      "q_2: ┤ X ├┤2 qft ├─╫──╫─┤M├──────\n",
      "     └───┘│      │ ║  ║ └╥┘┌─┐   \n",
      "q_3: ─────┤3     ├─╫──╫──╫─┤M├───\n",
      "     ┌───┐│      │ ║  ║  ║ └╥┘┌─┐\n",
      "q_4: ┤ X ├┤4     ├─╫──╫──╫──╫─┤M├\n",
      "     └───┘└──────┘ ║  ║  ║  ║ └╥┘\n",
      "c: 5/══════════════╩══╩══╩══╩══╩═\n",
      "                   0  1  2  3  4 \n",
      "Job Status: job has successfully run\n",
      "\n",
      " QFT Output\n",
      "-------------\n",
      "{'00010': 28, '11011': 29, '11111': 23, '10110': 22, '10010': 31, '01100': 26, '10001': 25, '01010': 24, '10011': 34, '01000': 35, '01110': 35, '01101': 31, '00001': 30, '01111': 29, '11010': 43, '00110': 30, '00100': 29, '00011': 31, '00111': 25, '11110': 29, '11100': 47, '11101': 37, '10100': 32, '00000': 22, '01011': 25, '10000': 41, '10101': 32, '10111': 36, '11000': 44, '11001': 32, '01001': 31, '00101': 32}\n",
      "     ┌───┐┌──────┐┌──────┐┌─┐            \n",
      "q_0: ┤ X ├┤0     ├┤0     ├┤M├────────────\n",
      "     └───┘│      ││      │└╥┘┌─┐         \n",
      "q_1: ─────┤1     ├┤1     ├─╫─┤M├─────────\n",
      "     ┌───┐│      ││      │ ║ └╥┘┌─┐      \n",
      "q_2: ┤ X ├┤2 qft ├┤2 qft ├─╫──╫─┤M├──────\n",
      "     └───┘│      ││      │ ║  ║ └╥┘┌─┐   \n",
      "q_3: ─────┤3     ├┤3     ├─╫──╫──╫─┤M├───\n",
      "     ┌───┐│      ││      │ ║  ║  ║ └╥┘┌─┐\n",
      "q_4: ┤ X ├┤4     ├┤4     ├─╫──╫──╫──╫─┤M├\n",
      "     └───┘└──────┘└──────┘ ║  ║  ║  ║ └╥┘\n",
      "c: 5/══════════════════════╩══╩══╩══╩══╩═\n",
      "                           0  1  2  3  4 \n",
      "Job Status: job has successfully run\n",
      "\n",
      " QFT with inverse QFT Output\n",
      "------------------------------\n",
      "{'10101': 1000}\n"
     ]
    }
   ],
   "source": [
    "from qiskit import QuantumRegister, ClassicalRegister\n",
    "from qiskit import QuantumCircuit, execute, IBMQ\n",
    "from qiskit.tools.monitor import job_monitor\n",
    "from qiskit.circuit.library import QFT\n",
    "import numpy as np\n",
    "\n",
    "pi = np.pi\n",
    "\n",
    "# IBMQ.enable_account('ENTER API KEY HERE')\n",
    "provider = IBMQ.get_provider(hub='ibm-q')\n",
    "\n",
    "backend = provider.get_backend('ibmq_qasm_simulator')\n",
    "\n",
    "q = QuantumRegister(5, 'q')\n",
    "c = ClassicalRegister(5, 'c')\n",
    "\n",
    "circuit = QuantumCircuit(q, c)\n",
    "\n",
    "circuit.x(q[4])\n",
    "circuit.x(q[2])\n",
    "circuit.x(q[0])\n",
    "qft_gate = QFT(num_qubits=5, approximation_degree=0, do_swaps=True, inverse=False, insert_barriers=False, name='qft')\n",
    "circuit.append(qft_gate, q)\n",
    "circuit.measure(q, c)\n",
    "circuit.draw(output='mpl', filename='qft1.png')\n",
    "print(circuit)\n",
    "\n",
    "job = execute(circuit, backend, shots=1000)\n",
    "\n",
    "job_monitor(job)\n",
    "\n",
    "counts = job.result().get_counts()\n",
    "\n",
    "print(\"\\n QFT Output\")\n",
    "print(\"-------------\")\n",
    "print(counts)\n",
    "\n",
    "q = QuantumRegister(5,'q')\n",
    "c = ClassicalRegister(5,'c')\n",
    "\n",
    "circuit = QuantumCircuit(q,c)\n",
    "\n",
    "circuit.x(q[4])\n",
    "circuit.x(q[2])\n",
    "circuit.x(q[0])\n",
    "qft_gate2 = QFT(num_qubits=5, approximation_degree=0, do_swaps=True, inverse=False, insert_barriers=True, name='qft')\n",
    "qft_gate3 = QFT(num_qubits=5, approximation_degree=0, do_swaps=True, inverse=True, insert_barriers=True, name='qft')\n",
    "circuit.append(qft_gate2, q)\n",
    "circuit.append(qft_gate3, q)\n",
    "circuit.measure(q,c)\n",
    "circuit.draw(output='mpl',filename='qft2.png')\n",
    "\n",
    "print(circuit)\n",
    "\n",
    "job = execute(circuit, backend, shots=1000)\n",
    "\n",
    "job_monitor(job)\n",
    "\n",
    "counts = job.result().get_counts()\n",
    "\n",
    "print(\"\\n QFT with inverse QFT Output\")\n",
    "print(\"------------------------------\")\n",
    "print(counts)"
   ]
  },
  {
   "cell_type": "code",
   "execution_count": null,
   "id": "41861064-a4a1-4d26-bcc2-164487fd2e27",
   "metadata": {},
   "outputs": [],
   "source": []
  }
 ],
 "metadata": {
  "kernelspec": {
   "display_name": "Qiskit v0.45.2 (ipykernel)",
   "language": "python",
   "name": "python3"
  },
  "language_info": {
   "codemirror_mode": {
    "name": "ipython",
    "version": 3
   },
   "file_extension": ".py",
   "mimetype": "text/x-python",
   "name": "python",
   "nbconvert_exporter": "python",
   "pygments_lexer": "ipython3",
   "version": "3.10.8"
  },
  "widgets": {
   "application/vnd.jupyter.widget-state+json": {
    "state": {
     "07d7b4b4876c483db8fdaa6f2979d88f": {
      "model_module": "@jupyter-widgets/controls",
      "model_module_version": "2.0.0",
      "model_name": "HTMLStyleModel",
      "state": {
       "description_width": "",
       "font_size": null,
       "text_color": null
      }
     },
     "08fd2d9bfb4a4ca098e62f5baae71068": {
      "model_module": "@jupyter-widgets/controls",
      "model_module_version": "2.0.0",
      "model_name": "HTMLStyleModel",
      "state": {
       "description_width": "",
       "font_size": null,
       "text_color": null
      }
     },
     "0df3f0abe9754dd180f8aeb8dc8480ea": {
      "model_module": "@jupyter-widgets/base",
      "model_module_version": "2.0.0",
      "model_name": "LayoutModel",
      "state": {
       "grid_area": "right",
       "padding": "0px 0px 0px 0px",
       "width": "70px"
      }
     },
     "1205caa88a2942ad8b289251ef8bac33": {
      "model_module": "@jupyter-widgets/base",
      "model_module_version": "2.0.0",
      "model_name": "LayoutModel",
      "state": {
       "max_width": "700px",
       "min_width": "700px"
      }
     },
     "1416614a66e0448bb3d8c6377614b35c": {
      "model_module": "@jupyter-widgets/controls",
      "model_module_version": "2.0.0",
      "model_name": "ButtonModel",
      "state": {
       "icon": "close",
       "layout": "IPY_MODEL_3dac9494bf69450cbcfa8bff866013bb",
       "style": "IPY_MODEL_7d1acc0038bd43809ee2cdf194c7fa22",
       "tooltip": null
      }
     },
     "19944fbeeb894ef88a8893e2434f219e": {
      "model_module": "@jupyter-widgets/controls",
      "model_module_version": "2.0.0",
      "model_name": "HTMLModel",
      "state": {
       "layout": "IPY_MODEL_e6ed96cca8894176bc1baf7c116212fe",
       "style": "IPY_MODEL_f713c81238a04545ab67f556168f1ae0",
       "value": "cmtm9vfn6tkp35glhe30"
      }
     },
     "1a0c78babdff4508afaeaf02c5391607": {
      "model_module": "@jupyter-widgets/base",
      "model_module_version": "2.0.0",
      "model_name": "LayoutModel",
      "state": {}
     },
     "1f6a274bdd9344209ea9344958bc3792": {
      "model_module": "@jupyter-widgets/base",
      "model_module_version": "2.0.0",
      "model_name": "LayoutModel",
      "state": {
       "max_width": "700px",
       "min_width": "700px"
      }
     },
     "2241bcca9f2c4cfab7b1cb606e52c15f": {
      "model_module": "@jupyter-widgets/base",
      "model_module_version": "2.0.0",
      "model_name": "LayoutModel",
      "state": {
       "width": "190px"
      }
     },
     "25003182a4aa4b4d9176eafcf67698dc": {
      "model_module": "@jupyter-widgets/controls",
      "model_module_version": "2.0.0",
      "model_name": "HTMLModel",
      "state": {
       "layout": "IPY_MODEL_5ca3afbc69a84fcc89a2ac17b8115826",
       "style": "IPY_MODEL_7b39bf3fb6a64f1e8fdd5c1423d251da",
       "value": "<h5>Message</h5>"
      }
     },
     "2525293c36a146d6b61de8220617ca34": {
      "model_module": "@jupyter-widgets/base",
      "model_module_version": "2.0.0",
      "model_name": "LayoutModel",
      "state": {
       "width": "145px"
      }
     },
     "267c624a6d484ed3998bd35d29978188": {
      "model_module": "@jupyter-widgets/controls",
      "model_module_version": "2.0.0",
      "model_name": "HTMLStyleModel",
      "state": {
       "description_width": "",
       "font_size": null,
       "text_color": null
      }
     },
     "29a0ccbb465447fe9fcb2adfedcedd5e": {
      "model_module": "@jupyter-widgets/controls",
      "model_module_version": "2.0.0",
      "model_name": "HTMLStyleModel",
      "state": {
       "description_width": "",
       "font_size": null,
       "text_color": null
      }
     },
     "2c7948ac022d42648c6381bc06f134c9": {
      "model_module": "@jupyter-widgets/base",
      "model_module_version": "2.0.0",
      "model_name": "LayoutModel",
      "state": {
       "width": "70px"
      }
     },
     "33744876918a41a2b6e611e4b8a28556": {
      "model_module": "@jupyter-widgets/controls",
      "model_module_version": "2.0.0",
      "model_name": "ButtonModel",
      "state": {
       "icon": "close",
       "layout": "IPY_MODEL_46f6532894194687b90a53ffcb857b7f",
       "style": "IPY_MODEL_e8ed2be21f1e4f8bbcdb31df995e5611",
       "tooltip": null
      }
     },
     "347af7e1c43848e88f1b7de447557bee": {
      "model_module": "@jupyter-widgets/base",
      "model_module_version": "2.0.0",
      "model_name": "LayoutModel",
      "state": {}
     },
     "34f62cb993c74b9ab646da0c03be1639": {
      "model_module": "@jupyter-widgets/base",
      "model_module_version": "2.0.0",
      "model_name": "LayoutModel",
      "state": {
       "width": "145px"
      }
     },
     "3626cde83cac4e0db8792ef0b14b4476": {
      "model_module": "@jupyter-widgets/controls",
      "model_module_version": "2.0.0",
      "model_name": "HTMLStyleModel",
      "state": {
       "description_width": "",
       "font_size": null,
       "text_color": null
      }
     },
     "370da2ee7bd146faa88a936172d81636": {
      "model_module": "@jupyter-widgets/base",
      "model_module_version": "2.0.0",
      "model_name": "LayoutModel",
      "state": {
       "width": "70px"
      }
     },
     "39715120204d4299a7166748410d7126": {
      "model_module": "@jupyter-widgets/controls",
      "model_module_version": "2.0.0",
      "model_name": "HTMLModel",
      "state": {
       "layout": "IPY_MODEL_49026059a1d346f193048f1ed5a847f4",
       "style": "IPY_MODEL_267c624a6d484ed3998bd35d29978188",
       "value": "DONE"
      }
     },
     "3b1752faa9ad4dd2b7ec7a98940df7b4": {
      "model_module": "@jupyter-widgets/base",
      "model_module_version": "2.0.0",
      "model_name": "LayoutModel",
      "state": {
       "width": "190px"
      }
     },
     "3d2e63a0ed284985b537a202ed209d81": {
      "model_module": "@jupyter-widgets/base",
      "model_module_version": "2.0.0",
      "model_name": "LayoutModel",
      "state": {
       "width": "145px"
      }
     },
     "3d9d7e836b044502a76c2bced7b23701": {
      "model_module": "@jupyter-widgets/controls",
      "model_module_version": "2.0.0",
      "model_name": "HTMLModel",
      "state": {
       "layout": "IPY_MODEL_87fcba5d8931432580df14b0662d5220",
       "style": "IPY_MODEL_4ec15c37fda841dba3e520ef1230f855",
       "value": "DONE"
      }
     },
     "3dac9494bf69450cbcfa8bff866013bb": {
      "model_module": "@jupyter-widgets/base",
      "model_module_version": "2.0.0",
      "model_name": "LayoutModel",
      "state": {
       "margin": "0px 5px 0px 0px",
       "width": "32px"
      }
     },
     "46f6532894194687b90a53ffcb857b7f": {
      "model_module": "@jupyter-widgets/base",
      "model_module_version": "2.0.0",
      "model_name": "LayoutModel",
      "state": {
       "margin": "0px 5px 0px 0px",
       "width": "32px"
      }
     },
     "46fdbb60b832402088682d181fc1d38b": {
      "model_module": "@jupyter-widgets/controls",
      "model_module_version": "2.0.0",
      "model_name": "ButtonModel",
      "state": {
       "icon": "close",
       "layout": "IPY_MODEL_b0cee2401b54428790451ae3a9f91cb5",
       "style": "IPY_MODEL_dbbcf6bb6ec74b3797f85927b29af0f1",
       "tooltip": null
      }
     },
     "4850e3d0b71e4ba9a4e76dbde24a4434": {
      "model_module": "@jupyter-widgets/controls",
      "model_module_version": "2.0.0",
      "model_name": "HTMLStyleModel",
      "state": {
       "description_width": "",
       "font_size": null,
       "text_color": null
      }
     },
     "49026059a1d346f193048f1ed5a847f4": {
      "model_module": "@jupyter-widgets/base",
      "model_module_version": "2.0.0",
      "model_name": "LayoutModel",
      "state": {
       "width": "95px"
      }
     },
     "4ba8c023892a4550b8be9993079a0e47": {
      "model_module": "@jupyter-widgets/controls",
      "model_module_version": "2.0.0",
      "model_name": "HTMLModel",
      "state": {
       "layout": "IPY_MODEL_c47a14be4c044aa4b6d48e09eb559bcb",
       "style": "IPY_MODEL_584795fc6ae24df0986bfc03fabd521a",
       "value": "ibmq_qasm_simulator"
      }
     },
     "4cb3e0680918415195278013c85f8064": {
      "model_module": "@jupyter-widgets/controls",
      "model_module_version": "2.0.0",
      "model_name": "HTMLModel",
      "state": {
       "layout": "IPY_MODEL_b678902490614ba78484f5fc099c369f",
       "style": "IPY_MODEL_762d2176e8854224bdd830ea6d6a4f45",
       "value": "<p style='font-family: IBM Plex Sans, Arial, Helvetica, sans-serif; font-size: 20px; font-weight: medium;'>Circuit Properties</p>"
      }
     },
     "4ccaa5cf22b84f5897586f1f70355c56": {
      "model_module": "@jupyter-widgets/controls",
      "model_module_version": "2.0.0",
      "model_name": "HTMLStyleModel",
      "state": {
       "description_width": "",
       "font_size": null,
       "text_color": null
      }
     },
     "4d241a27a9a74ce8a192637549b023f5": {
      "model_module": "@jupyter-widgets/base",
      "model_module_version": "2.0.0",
      "model_name": "LayoutModel",
      "state": {
       "width": "190px"
      }
     },
     "4ec15c37fda841dba3e520ef1230f855": {
      "model_module": "@jupyter-widgets/controls",
      "model_module_version": "2.0.0",
      "model_name": "HTMLStyleModel",
      "state": {
       "description_width": "",
       "font_size": null,
       "text_color": null
      }
     },
     "541879ea5c9644638673e1584027ea37": {
      "model_module": "@jupyter-widgets/base",
      "model_module_version": "2.0.0",
      "model_name": "LayoutModel",
      "state": {
       "width": "70px"
      }
     },
     "584795fc6ae24df0986bfc03fabd521a": {
      "model_module": "@jupyter-widgets/controls",
      "model_module_version": "2.0.0",
      "model_name": "HTMLStyleModel",
      "state": {
       "description_width": "",
       "font_size": null,
       "text_color": null
      }
     },
     "5ca3afbc69a84fcc89a2ac17b8115826": {
      "model_module": "@jupyter-widgets/base",
      "model_module_version": "2.0.0",
      "model_name": "LayoutModel",
      "state": {}
     },
     "5cc20ff1f8434289a36ffaf4879daf6d": {
      "model_module": "@jupyter-widgets/base",
      "model_module_version": "2.0.0",
      "model_name": "LayoutModel",
      "state": {
       "margin": "0px 5px 0px 0px",
       "width": "32px"
      }
     },
     "6921eb9c80d04dbd8031b82ee34ce2ef": {
      "model_module": "@jupyter-widgets/controls",
      "model_module_version": "2.0.0",
      "model_name": "HTMLModel",
      "state": {
       "layout": "IPY_MODEL_347af7e1c43848e88f1b7de447557bee",
       "style": "IPY_MODEL_29a0ccbb465447fe9fcb2adfedcedd5e",
       "value": "<p style=white-space:nowrap;>job has successfully run</p>"
      }
     },
     "6af08633791c4a13a6f27b495606b0ab": {
      "model_module": "@jupyter-widgets/controls",
      "model_module_version": "2.0.0",
      "model_name": "HTMLStyleModel",
      "state": {
       "description_width": "",
       "font_size": null,
       "text_color": null
      }
     },
     "6cc98cc9ecac4286b8f04e1975cf0e76": {
      "model_module": "@jupyter-widgets/controls",
      "model_module_version": "2.0.0",
      "model_name": "HBoxModel",
      "state": {
       "children": [
        "IPY_MODEL_33744876918a41a2b6e611e4b8a28556",
        "IPY_MODEL_c710f3154338483f80589f5f29b8d9d3",
        "IPY_MODEL_4ba8c023892a4550b8be9993079a0e47",
        "IPY_MODEL_b5a15dbe3bcc4c8f897a1a987be45065",
        "IPY_MODEL_7bb5dce86f3640c3b4c8b9da6f9af386",
        "IPY_MODEL_cf8d681e5acd4294a3e47d37343e29e2"
       ],
       "layout": "IPY_MODEL_1f6a274bdd9344209ea9344958bc3792"
      }
     },
     "6d433b29fdcd4227b3355bcc07e0a1f3": {
      "model_module": "@jupyter-widgets/base",
      "model_module_version": "2.0.0",
      "model_name": "LayoutModel",
      "state": {
       "margin": "0px 0px 0px 37px",
       "width": "600px"
      }
     },
     "7397458fd6024922b09279b2df651c7f": {
      "model_module": "@jupyter-widgets/controls",
      "model_module_version": "2.0.0",
      "model_name": "HTMLStyleModel",
      "state": {
       "description_width": "",
       "font_size": null,
       "text_color": null
      }
     },
     "762d2176e8854224bdd830ea6d6a4f45": {
      "model_module": "@jupyter-widgets/controls",
      "model_module_version": "2.0.0",
      "model_name": "HTMLStyleModel",
      "state": {
       "description_width": "",
       "font_size": null,
       "text_color": null
      }
     },
     "766b3381e9fc43f4a19e78d1929cc60c": {
      "model_module": "@jupyter-widgets/controls",
      "model_module_version": "2.0.0",
      "model_name": "HBoxModel",
      "state": {
       "children": [
        "IPY_MODEL_d166a6176b2f48339ff1a5c67265a309",
        "IPY_MODEL_e12bf549de8a4ad48f1c9f15756a12bd",
        "IPY_MODEL_b3e8b24afbd044a89ef9dd12c6d7dc29",
        "IPY_MODEL_8cfe21f9dfc6434685dc6fe8b0fe4238",
        "IPY_MODEL_dea1d13c62594fb5ab539db6ec84cf76",
        "IPY_MODEL_e959575432864f11b1bc784b9157a4bf"
       ],
       "layout": "IPY_MODEL_ea928ab1484b4a9580c4a392eded880d"
      }
     },
     "76aaaaec4ea8413b9144a5094fa1b268": {
      "model_module": "@jupyter-widgets/controls",
      "model_module_version": "2.0.0",
      "model_name": "HTMLModel",
      "state": {
       "layout": "IPY_MODEL_2525293c36a146d6b61de8220617ca34",
       "style": "IPY_MODEL_4ccaa5cf22b84f5897586f1f70355c56",
       "value": "<h5>Backend</h5>"
      }
     },
     "78c00a41a76f4772aa6760c16ebbaf57": {
      "model_module": "@jupyter-widgets/controls",
      "model_module_version": "2.0.0",
      "model_name": "HBoxModel",
      "state": {
       "children": [
        "IPY_MODEL_46fdbb60b832402088682d181fc1d38b",
        "IPY_MODEL_19944fbeeb894ef88a8893e2434f219e",
        "IPY_MODEL_f1f629e2148a44d6979729c60a3f44bc",
        "IPY_MODEL_39715120204d4299a7166748410d7126",
        "IPY_MODEL_eba6f662101b450aa3708a197eea534d",
        "IPY_MODEL_c01ce592525948b4a05b7c2fdebc1ef3"
       ],
       "layout": "IPY_MODEL_1205caa88a2942ad8b289251ef8bac33"
      }
     },
     "78ed975a3a504cbfa2d0c0d5f1d57fb6": {
      "model_module": "@jupyter-widgets/controls",
      "model_module_version": "2.0.0",
      "model_name": "HTMLStyleModel",
      "state": {
       "description_width": "",
       "font_size": null,
       "text_color": null
      }
     },
     "7aa3c9ef133044a5a6e5dd1aa0710204": {
      "model_module": "@jupyter-widgets/base",
      "model_module_version": "2.0.0",
      "model_name": "LayoutModel",
      "state": {}
     },
     "7b39bf3fb6a64f1e8fdd5c1423d251da": {
      "model_module": "@jupyter-widgets/controls",
      "model_module_version": "2.0.0",
      "model_name": "HTMLStyleModel",
      "state": {
       "description_width": "",
       "font_size": null,
       "text_color": null
      }
     },
     "7bb5dce86f3640c3b4c8b9da6f9af386": {
      "model_module": "@jupyter-widgets/controls",
      "model_module_version": "2.0.0",
      "model_name": "HTMLModel",
      "state": {
       "layout": "IPY_MODEL_370da2ee7bd146faa88a936172d81636",
       "style": "IPY_MODEL_f3730ad962424fb392fb92c274970e09",
       "value": "-"
      }
     },
     "7d1acc0038bd43809ee2cdf194c7fa22": {
      "model_module": "@jupyter-widgets/controls",
      "model_module_version": "2.0.0",
      "model_name": "ButtonStyleModel",
      "state": {
       "button_color": "white",
       "font_family": null,
       "font_size": null,
       "font_style": null,
       "font_variant": null,
       "font_weight": null,
       "text_color": null,
       "text_decoration": null
      }
     },
     "85c7d989cdfc4feca86fc7a2afeee3f4": {
      "model_module": "@jupyter-widgets/base",
      "model_module_version": "2.0.0",
      "model_name": "LayoutModel",
      "state": {
       "width": "190px"
      }
     },
     "87fcba5d8931432580df14b0662d5220": {
      "model_module": "@jupyter-widgets/base",
      "model_module_version": "2.0.0",
      "model_name": "LayoutModel",
      "state": {
       "width": "95px"
      }
     },
     "8b7f15718852463888c6d20fb7791e70": {
      "model_module": "@jupyter-widgets/base",
      "model_module_version": "2.0.0",
      "model_name": "LayoutModel",
      "state": {
       "width": "95px"
      }
     },
     "8cbb3516311a4bf08c4aa65405691d13": {
      "model_module": "@jupyter-widgets/controls",
      "model_module_version": "2.0.0",
      "model_name": "HTMLStyleModel",
      "state": {
       "description_width": "",
       "font_size": null,
       "text_color": null
      }
     },
     "8cfe21f9dfc6434685dc6fe8b0fe4238": {
      "model_module": "@jupyter-widgets/controls",
      "model_module_version": "2.0.0",
      "model_name": "HTMLModel",
      "state": {
       "layout": "IPY_MODEL_d7c75fb226a6413aae26193777d950f9",
       "style": "IPY_MODEL_9ad4ada7ecc34e9981afdd79e760f316",
       "value": "<font style='color:#34BC6E'>DONE</font>"
      }
     },
     "9036f589fd524bc38041145fc7b33e46": {
      "model_module": "@jupyter-widgets/controls",
      "model_module_version": "2.0.0",
      "model_name": "HBoxModel",
      "state": {
       "children": [
        "IPY_MODEL_fb9f7a8894494d53b31171c069648f25",
        "IPY_MODEL_76aaaaec4ea8413b9144a5094fa1b268",
        "IPY_MODEL_ce3f4f2d37474b33aa31cb83afcc01c4",
        "IPY_MODEL_ab262f7a19ca407aae3dc776e958a51c",
        "IPY_MODEL_25003182a4aa4b4d9176eafcf67698dc"
       ],
       "layout": "IPY_MODEL_6d433b29fdcd4227b3355bcc07e0a1f3"
      }
     },
     "930887097a7d45ae9782433632f054e1": {
      "model_module": "@jupyter-widgets/controls",
      "model_module_version": "2.0.0",
      "model_name": "ButtonModel",
      "state": {
       "button_style": "primary",
       "description": "Clear",
       "layout": "IPY_MODEL_0df3f0abe9754dd180f8aeb8dc8480ea",
       "style": "IPY_MODEL_98d6c045d16248ae9e8e12f933ff3db1",
       "tooltip": null
      }
     },
     "98d6c045d16248ae9e8e12f933ff3db1": {
      "model_module": "@jupyter-widgets/controls",
      "model_module_version": "2.0.0",
      "model_name": "ButtonStyleModel",
      "state": {
       "font_family": null,
       "font_size": null,
       "font_style": null,
       "font_variant": null,
       "font_weight": null,
       "text_color": null,
       "text_decoration": null
      }
     },
     "9ad4ada7ecc34e9981afdd79e760f316": {
      "model_module": "@jupyter-widgets/controls",
      "model_module_version": "2.0.0",
      "model_name": "HTMLStyleModel",
      "state": {
       "description_width": "",
       "font_size": null,
       "text_color": null
      }
     },
     "9ef973e078174060ad343cf329d3518d": {
      "model_module": "@jupyter-widgets/controls",
      "model_module_version": "2.0.0",
      "model_name": "HTMLModel",
      "state": {
       "layout": "IPY_MODEL_541879ea5c9644638673e1584027ea37",
       "style": "IPY_MODEL_3626cde83cac4e0db8792ef0b14b4476",
       "value": "-"
      }
     },
     "a8da763e06ed429695b7e100b4894f4b": {
      "model_module": "@jupyter-widgets/controls",
      "model_module_version": "2.0.0",
      "model_name": "HTMLStyleModel",
      "state": {
       "description_width": "",
       "font_size": null,
       "text_color": null
      }
     },
     "aaa364a94a6c44e6b80f985ecb185067": {
      "model_module": "@jupyter-widgets/controls",
      "model_module_version": "2.0.0",
      "model_name": "GridBoxModel",
      "state": {
       "children": [
        "IPY_MODEL_930887097a7d45ae9782433632f054e1"
       ],
       "layout": "IPY_MODEL_b5d07a855678420db9162296f6737bee"
      }
     },
     "ab262f7a19ca407aae3dc776e958a51c": {
      "model_module": "@jupyter-widgets/controls",
      "model_module_version": "2.0.0",
      "model_name": "HTMLModel",
      "state": {
       "layout": "IPY_MODEL_2c7948ac022d42648c6381bc06f134c9",
       "style": "IPY_MODEL_6af08633791c4a13a6f27b495606b0ab",
       "value": "<h5>Queue</h5>"
      }
     },
     "aca46035dba74d4c8ac8cd7aa7940bae": {
      "model_module": "@jupyter-widgets/controls",
      "model_module_version": "2.0.0",
      "model_name": "HTMLStyleModel",
      "state": {
       "description_width": "",
       "font_size": null,
       "text_color": null
      }
     },
     "b0cee2401b54428790451ae3a9f91cb5": {
      "model_module": "@jupyter-widgets/base",
      "model_module_version": "2.0.0",
      "model_name": "LayoutModel",
      "state": {
       "margin": "0px 5px 0px 0px",
       "width": "32px"
      }
     },
     "b226913c64f2412b818823c518852f61": {
      "model_module": "@jupyter-widgets/controls",
      "model_module_version": "2.0.0",
      "model_name": "HTMLStyleModel",
      "state": {
       "description_width": "",
       "font_size": null,
       "text_color": null
      }
     },
     "b3e8b24afbd044a89ef9dd12c6d7dc29": {
      "model_module": "@jupyter-widgets/controls",
      "model_module_version": "2.0.0",
      "model_name": "HTMLModel",
      "state": {
       "layout": "IPY_MODEL_34f62cb993c74b9ab646da0c03be1639",
       "style": "IPY_MODEL_cdc90532f15843d38ad53c6646c3e726",
       "value": "ibmq_qasm_simulator"
      }
     },
     "b4ceb0872cf447aeb5fe1ca4c4aaafe4": {
      "model_module": "@jupyter-widgets/controls",
      "model_module_version": "2.0.0",
      "model_name": "HTMLStyleModel",
      "state": {
       "description_width": "",
       "font_size": null,
       "text_color": null
      }
     },
     "b5a15dbe3bcc4c8f897a1a987be45065": {
      "model_module": "@jupyter-widgets/controls",
      "model_module_version": "2.0.0",
      "model_name": "HTMLModel",
      "state": {
       "layout": "IPY_MODEL_f93b3c134a824231a433a18c79a32cb2",
       "style": "IPY_MODEL_4850e3d0b71e4ba9a4e76dbde24a4434",
       "value": "DONE"
      }
     },
     "b5d07a855678420db9162296f6737bee": {
      "model_module": "@jupyter-widgets/base",
      "model_module_version": "2.0.0",
      "model_name": "LayoutModel",
      "state": {
       "grid_template_areas": "\n                                       \". . . . right \"\n                                        ",
       "grid_template_columns": "20% 20% 20% 20% 20%",
       "width": "100%"
      }
     },
     "b678902490614ba78484f5fc099c369f": {
      "model_module": "@jupyter-widgets/base",
      "model_module_version": "2.0.0",
      "model_name": "LayoutModel",
      "state": {
       "margin": "0px 0px 10px 0px"
      }
     },
     "be947cc62bc04b9bb5b46d60657cff70": {
      "model_module": "@jupyter-widgets/controls",
      "model_module_version": "2.0.0",
      "model_name": "HBoxModel",
      "state": {
       "children": [
        "IPY_MODEL_1416614a66e0448bb3d8c6377614b35c",
        "IPY_MODEL_c25e4b7ed86e4b2483e42b4ad095788f",
        "IPY_MODEL_fe0020a8bad440d5b46816eb88503416",
        "IPY_MODEL_3d9d7e836b044502a76c2bced7b23701",
        "IPY_MODEL_9ef973e078174060ad343cf329d3518d",
        "IPY_MODEL_6921eb9c80d04dbd8031b82ee34ce2ef"
       ],
       "layout": "IPY_MODEL_ca96f40966b3402fb1f3058da026f80b"
      }
     },
     "c01ce592525948b4a05b7c2fdebc1ef3": {
      "model_module": "@jupyter-widgets/controls",
      "model_module_version": "2.0.0",
      "model_name": "HTMLModel",
      "state": {
       "layout": "IPY_MODEL_1a0c78babdff4508afaeaf02c5391607",
       "style": "IPY_MODEL_a8da763e06ed429695b7e100b4894f4b",
       "value": "<p style=white-space:nowrap;>job has successfully run</p>"
      }
     },
     "c25e4b7ed86e4b2483e42b4ad095788f": {
      "model_module": "@jupyter-widgets/controls",
      "model_module_version": "2.0.0",
      "model_name": "HTMLModel",
      "state": {
       "layout": "IPY_MODEL_3b1752faa9ad4dd2b7ec7a98940df7b4",
       "style": "IPY_MODEL_8cbb3516311a4bf08c4aa65405691d13",
       "value": "cmtm9tdhk6gfko8a7va0"
      }
     },
     "c47a14be4c044aa4b6d48e09eb559bcb": {
      "model_module": "@jupyter-widgets/base",
      "model_module_version": "2.0.0",
      "model_name": "LayoutModel",
      "state": {
       "width": "145px"
      }
     },
     "c710f3154338483f80589f5f29b8d9d3": {
      "model_module": "@jupyter-widgets/controls",
      "model_module_version": "2.0.0",
      "model_name": "HTMLModel",
      "state": {
       "layout": "IPY_MODEL_4d241a27a9a74ce8a192637549b023f5",
       "style": "IPY_MODEL_7397458fd6024922b09279b2df651c7f",
       "value": "cmtm9nthk6gfko8a7ung"
      }
     },
     "c7990a12ed404721886c54cda1b9a7fa": {
      "model_module": "@jupyter-widgets/controls",
      "model_module_version": "2.0.0",
      "model_name": "HTMLStyleModel",
      "state": {
       "description_width": "",
       "font_size": null,
       "text_color": null
      }
     },
     "c7ebe6eb22464be48d05639fd03aa688": {
      "model_module": "@jupyter-widgets/base",
      "model_module_version": "2.0.0",
      "model_name": "LayoutModel",
      "state": {
       "width": "70px"
      }
     },
     "ca96f40966b3402fb1f3058da026f80b": {
      "model_module": "@jupyter-widgets/base",
      "model_module_version": "2.0.0",
      "model_name": "LayoutModel",
      "state": {
       "max_width": "700px",
       "min_width": "700px"
      }
     },
     "cdc90532f15843d38ad53c6646c3e726": {
      "model_module": "@jupyter-widgets/controls",
      "model_module_version": "2.0.0",
      "model_name": "HTMLStyleModel",
      "state": {
       "description_width": "",
       "font_size": null,
       "text_color": null
      }
     },
     "ce3f4f2d37474b33aa31cb83afcc01c4": {
      "model_module": "@jupyter-widgets/controls",
      "model_module_version": "2.0.0",
      "model_name": "HTMLModel",
      "state": {
       "layout": "IPY_MODEL_8b7f15718852463888c6d20fb7791e70",
       "style": "IPY_MODEL_c7990a12ed404721886c54cda1b9a7fa",
       "value": "<h5>Status</h5>"
      }
     },
     "cf8d681e5acd4294a3e47d37343e29e2": {
      "model_module": "@jupyter-widgets/controls",
      "model_module_version": "2.0.0",
      "model_name": "HTMLModel",
      "state": {
       "layout": "IPY_MODEL_7aa3c9ef133044a5a6e5dd1aa0710204",
       "style": "IPY_MODEL_aca46035dba74d4c8ac8cd7aa7940bae",
       "value": "<p style=white-space:nowrap;>job has successfully run</p>"
      }
     },
     "d166a6176b2f48339ff1a5c67265a309": {
      "model_module": "@jupyter-widgets/controls",
      "model_module_version": "2.0.0",
      "model_name": "ButtonModel",
      "state": {
       "icon": "close",
       "layout": "IPY_MODEL_5cc20ff1f8434289a36ffaf4879daf6d",
       "style": "IPY_MODEL_f08cc39e5eb94b81a440c9ae0ecd2ee3",
       "tooltip": null
      }
     },
     "d7c75fb226a6413aae26193777d950f9": {
      "model_module": "@jupyter-widgets/base",
      "model_module_version": "2.0.0",
      "model_name": "LayoutModel",
      "state": {
       "width": "95px"
      }
     },
     "d8a4b144d4ae4330bab0cfc4908983b5": {
      "model_module": "@jupyter-widgets/controls",
      "model_module_version": "2.0.0",
      "model_name": "HTMLStyleModel",
      "state": {
       "description_width": "",
       "font_size": null,
       "text_color": null
      }
     },
     "dbbcf6bb6ec74b3797f85927b29af0f1": {
      "model_module": "@jupyter-widgets/controls",
      "model_module_version": "2.0.0",
      "model_name": "ButtonStyleModel",
      "state": {
       "button_color": "white",
       "font_family": null,
       "font_size": null,
       "font_style": null,
       "font_variant": null,
       "font_weight": null,
       "text_color": null,
       "text_decoration": null
      }
     },
     "dd227a6a483147bfbb050236228718da": {
      "model_module": "@jupyter-widgets/controls",
      "model_module_version": "2.0.0",
      "model_name": "HTMLStyleModel",
      "state": {
       "description_width": "",
       "font_size": null,
       "text_color": null
      }
     },
     "dea1d13c62594fb5ab539db6ec84cf76": {
      "model_module": "@jupyter-widgets/controls",
      "model_module_version": "2.0.0",
      "model_name": "HTMLModel",
      "state": {
       "layout": "IPY_MODEL_ee3be2ba469446d8837ab658b220b05b",
       "style": "IPY_MODEL_b4ceb0872cf447aeb5fe1ca4c4aaafe4",
       "value": "-"
      }
     },
     "e12bf549de8a4ad48f1c9f15756a12bd": {
      "model_module": "@jupyter-widgets/controls",
      "model_module_version": "2.0.0",
      "model_name": "HTMLModel",
      "state": {
       "layout": "IPY_MODEL_85c7d989cdfc4feca86fc7a2afeee3f4",
       "style": "IPY_MODEL_08fd2d9bfb4a4ca098e62f5baae71068",
       "value": "cmtm80sd06qe0i1cbj8g"
      }
     },
     "e6ed96cca8894176bc1baf7c116212fe": {
      "model_module": "@jupyter-widgets/base",
      "model_module_version": "2.0.0",
      "model_name": "LayoutModel",
      "state": {
       "width": "190px"
      }
     },
     "e8ed2be21f1e4f8bbcdb31df995e5611": {
      "model_module": "@jupyter-widgets/controls",
      "model_module_version": "2.0.0",
      "model_name": "ButtonStyleModel",
      "state": {
       "button_color": "white",
       "font_family": null,
       "font_size": null,
       "font_style": null,
       "font_variant": null,
       "font_weight": null,
       "text_color": null,
       "text_decoration": null
      }
     },
     "e959575432864f11b1bc784b9157a4bf": {
      "model_module": "@jupyter-widgets/controls",
      "model_module_version": "2.0.0",
      "model_name": "HTMLModel",
      "state": {
       "layout": "IPY_MODEL_ed861208f6034a6faaf13b65d1ce6810",
       "style": "IPY_MODEL_dd227a6a483147bfbb050236228718da",
       "value": "job has successfully run"
      }
     },
     "ea928ab1484b4a9580c4a392eded880d": {
      "model_module": "@jupyter-widgets/base",
      "model_module_version": "2.0.0",
      "model_name": "LayoutModel",
      "state": {
       "max_width": "700px",
       "min_width": "700px"
      }
     },
     "eba6f662101b450aa3708a197eea534d": {
      "model_module": "@jupyter-widgets/controls",
      "model_module_version": "2.0.0",
      "model_name": "HTMLModel",
      "state": {
       "layout": "IPY_MODEL_c7ebe6eb22464be48d05639fd03aa688",
       "style": "IPY_MODEL_78ed975a3a504cbfa2d0c0d5f1d57fb6",
       "value": "-"
      }
     },
     "ed861208f6034a6faaf13b65d1ce6810": {
      "model_module": "@jupyter-widgets/base",
      "model_module_version": "2.0.0",
      "model_name": "LayoutModel",
      "state": {}
     },
     "ee3be2ba469446d8837ab658b220b05b": {
      "model_module": "@jupyter-widgets/base",
      "model_module_version": "2.0.0",
      "model_name": "LayoutModel",
      "state": {
       "width": "70px"
      }
     },
     "f08cc39e5eb94b81a440c9ae0ecd2ee3": {
      "model_module": "@jupyter-widgets/controls",
      "model_module_version": "2.0.0",
      "model_name": "ButtonStyleModel",
      "state": {
       "button_color": "white",
       "font_family": null,
       "font_size": null,
       "font_style": null,
       "font_variant": null,
       "font_weight": null,
       "text_color": null,
       "text_decoration": null
      }
     },
     "f1f629e2148a44d6979729c60a3f44bc": {
      "model_module": "@jupyter-widgets/controls",
      "model_module_version": "2.0.0",
      "model_name": "HTMLModel",
      "state": {
       "layout": "IPY_MODEL_3d2e63a0ed284985b537a202ed209d81",
       "style": "IPY_MODEL_b226913c64f2412b818823c518852f61",
       "value": "ibmq_qasm_simulator"
      }
     },
     "f3730ad962424fb392fb92c274970e09": {
      "model_module": "@jupyter-widgets/controls",
      "model_module_version": "2.0.0",
      "model_name": "HTMLStyleModel",
      "state": {
       "description_width": "",
       "font_size": null,
       "text_color": null
      }
     },
     "f713c81238a04545ab67f556168f1ae0": {
      "model_module": "@jupyter-widgets/controls",
      "model_module_version": "2.0.0",
      "model_name": "HTMLStyleModel",
      "state": {
       "description_width": "",
       "font_size": null,
       "text_color": null
      }
     },
     "f93b3c134a824231a433a18c79a32cb2": {
      "model_module": "@jupyter-widgets/base",
      "model_module_version": "2.0.0",
      "model_name": "LayoutModel",
      "state": {
       "width": "95px"
      }
     },
     "fb10210fd0394ea7aed924e7f7b587c9": {
      "model_module": "@jupyter-widgets/base",
      "model_module_version": "2.0.0",
      "model_name": "LayoutModel",
      "state": {
       "width": "145px"
      }
     },
     "fb9f7a8894494d53b31171c069648f25": {
      "model_module": "@jupyter-widgets/controls",
      "model_module_version": "2.0.0",
      "model_name": "HTMLModel",
      "state": {
       "layout": "IPY_MODEL_2241bcca9f2c4cfab7b1cb606e52c15f",
       "style": "IPY_MODEL_d8a4b144d4ae4330bab0cfc4908983b5",
       "value": "<h5>Job ID</h5>"
      }
     },
     "fe0020a8bad440d5b46816eb88503416": {
      "model_module": "@jupyter-widgets/controls",
      "model_module_version": "2.0.0",
      "model_name": "HTMLModel",
      "state": {
       "layout": "IPY_MODEL_fb10210fd0394ea7aed924e7f7b587c9",
       "style": "IPY_MODEL_07d7b4b4876c483db8fdaa6f2979d88f",
       "value": "ibmq_qasm_simulator"
      }
     }
    },
    "version_major": 2,
    "version_minor": 0
   }
  }
 },
 "nbformat": 4,
 "nbformat_minor": 5
}
