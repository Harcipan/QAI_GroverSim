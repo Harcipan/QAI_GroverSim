{
 "cells": [
  {
   "cell_type": "code",
   "execution_count": 9,
   "id": "abc94967-b801-4780-bab0-75cb86c6284f",
   "metadata": {
    "tags": []
   },
   "outputs": [],
   "source": [
    "# Alap Qiskit könyvtárak\n",
    "from qiskit import QuantumCircuit, transpile\n",
    "from qiskit.tools.jupyter import *\n",
    "from qiskit.visualization import *\n",
    "from ibm_quantum_widgets import *\n",
    "from qiskit_ibm_runtime import QiskitRuntimeService, Sampler, Estimator, Session, Options\n",
    "\n",
    "# IBM Quantum account betöltése\n",
    "service = QiskitRuntimeService(channel=\"ibm_quantum\")"
   ]
  },
  {
   "cell_type": "code",
   "execution_count": 10,
   "id": "44316053-140f-47d6-bb76-0d59b90660b0",
   "metadata": {
    "tags": []
   },
   "outputs": [
    {
     "name": "stdout",
     "output_type": "stream",
     "text": [
      "       ┌───┐     ┌─┐         \n",
      "q17_0: ┤ X ├─────┤M├─────────\n",
      "       ├───┤     └╥┘┌─┐      \n",
      "q17_1: ┤ X ├──────╫─┤M├──────\n",
      "       ├───┤      ║ └╥┘┌─┐   \n",
      "q17_2: ┤ X ├──■───╫──╫─┤M├───\n",
      "       └───┘┌─┴─┐ ║  ║ └╥┘┌─┐\n",
      "q17_3: ─────┤ X ├─╫──╫──╫─┤M├\n",
      "            └───┘ ║  ║  ║ └╥┘\n",
      " c7: 4/═══════════╩══╩══╩══╩═\n",
      "                  0  1  2  3 \n",
      "{'1111': 1024}\n"
     ]
    }
   ],
   "source": [
    "from qiskit import QuantumCircuit, QuantumRegister, ClassicalRegister, Aer, execute\n",
    "from qiskit.circuit import ControlledGate\n",
    "\n",
    "# Tegyük fel, hogy n a qubitek száma\n",
    "n = 3\n",
    "\n",
    "# Hozzunk létre egy kvantum regisztert n qubittal a függvényhez és 1 qubittal a CNOT céljához\n",
    "qr = QuantumRegister(n + 1)\n",
    "# Hozzunk létre egy klasszikus regisztert a méréshez\n",
    "cr = ClassicalRegister(n + 1)\n",
    "\n",
    "circuit = QuantumCircuit(qr, cr)\n",
    "\n",
    "# Az f függvény implementálása: Bitenkénti NOT művelet minden egyes első n qubit esetén (csak próbaként)\n",
    "for qubit in range(n):\n",
    "    circuit.x(qr[qubit])\n",
    "\n",
    "# Alkalmazzunk CNOT-t az n-edik qubit vezérlésével és az (n+1)-edik qubit célpontjával\n",
    "circuit.cnot(qr[n-1], qr[n])\n",
    "\n",
    "# Mérjük meg a qubiteket\n",
    "circuit.measure(qr, cr)\n",
    "\n",
    "print(circuit)\n",
    "\n",
    "# szimuláció\n",
    "simulator = Aer.get_backend('qasm_simulator')\n",
    "job = execute(circuit, simulator, shots=1024)\n",
    "result = job.result()\n",
    "counts = result.get_counts(circuit)\n",
    "print(counts)"
   ]
  },
  {
   "cell_type": "code",
   "execution_count": null,
   "id": "d673c4d1-6d54-4554-a0a2-6a268db430b7",
   "metadata": {},
   "outputs": [],
   "source": []
  }
 ],
 "metadata": {
  "kernelspec": {
   "display_name": "Python 3 (ipykernel)",
   "language": "python",
   "name": "python3"
  },
  "language_info": {
   "codemirror_mode": {
    "name": "ipython",
    "version": 3
   },
   "file_extension": ".py",
   "mimetype": "text/x-python",
   "name": "python",
   "nbconvert_exporter": "python",
   "pygments_lexer": "ipython3",
   "version": "3.10.8"
  },
  "widgets": {
   "application/vnd.jupyter.widget-state+json": {
    "state": {
     "1dafa0c883d94700a8517be70eb29b3f": {
      "model_module": "@jupyter-widgets/base",
      "model_module_version": "2.0.0",
      "model_name": "LayoutModel",
      "state": {
       "margin": "0px 0px 10px 0px"
      }
     },
     "20970fa35d024eb59184cea015a17066": {
      "model_module": "@jupyter-widgets/base",
      "model_module_version": "2.0.0",
      "model_name": "LayoutModel",
      "state": {
       "width": "190px"
      }
     },
     "236df73c0184476c95c1090b4f526694": {
      "model_module": "@jupyter-widgets/controls",
      "model_module_version": "2.0.0",
      "model_name": "GridBoxModel",
      "state": {
       "children": [
        "IPY_MODEL_698f5d34f25145bd86ebfc91ff7bc1ca"
       ],
       "layout": "IPY_MODEL_ed311be9e23143aaa9a1721ab3f56a1a"
      }
     },
     "2e1aa8a1d0074298acfb6e9d00bf733e": {
      "model_module": "@jupyter-widgets/controls",
      "model_module_version": "2.0.0",
      "model_name": "HTMLModel",
      "state": {
       "layout": "IPY_MODEL_f929338e047f468396a73de7206bce1c",
       "style": "IPY_MODEL_6d096fa621d94eed97dc8232738f78c3",
       "value": "<h5>Queue</h5>"
      }
     },
     "4af19b5a44214479b8b34814e5de6397": {
      "model_module": "@jupyter-widgets/controls",
      "model_module_version": "2.0.0",
      "model_name": "HTMLModel",
      "state": {
       "layout": "IPY_MODEL_1dafa0c883d94700a8517be70eb29b3f",
       "style": "IPY_MODEL_6262e153800c4853a7e92d6dd8a4992c",
       "value": "<p style='font-family: IBM Plex Sans, Arial, Helvetica, sans-serif; font-size: 20px; font-weight: medium;'>Circuit Properties</p>"
      }
     },
     "4c7e709e220a46b9b57aee5a8b8aafff": {
      "model_module": "@jupyter-widgets/controls",
      "model_module_version": "2.0.0",
      "model_name": "HTMLModel",
      "state": {
       "layout": "IPY_MODEL_931ffeb4564a4930ae6c5978d2614957",
       "style": "IPY_MODEL_d4a67fe5ec544967831869810bb2f1c4",
       "value": "<h5>Backend</h5>"
      }
     },
     "53f3c94bf8f247779b1b165c3b24670b": {
      "model_module": "@jupyter-widgets/controls",
      "model_module_version": "2.0.0",
      "model_name": "HTMLModel",
      "state": {
       "layout": "IPY_MODEL_f5dd0ac24f2345b9b5dcce3e9571a6fa",
       "style": "IPY_MODEL_b3d1f9d5887c4c7f93019d0084e4cc70",
       "value": "<h5>Status</h5>"
      }
     },
     "54ae0ea21cc14ddf90da8fd7d50fe25a": {
      "model_module": "@jupyter-widgets/base",
      "model_module_version": "2.0.0",
      "model_name": "LayoutModel",
      "state": {
       "margin": "0px 0px 0px 37px",
       "width": "600px"
      }
     },
     "5c48c3714f104697836131748f15a37a": {
      "model_module": "@jupyter-widgets/controls",
      "model_module_version": "2.0.0",
      "model_name": "HTMLModel",
      "state": {
       "layout": "IPY_MODEL_83aa32eccda24aa098ea0a4a864763f5",
       "style": "IPY_MODEL_68730a533d2441d7a0be9dbff4d1e84a",
       "value": "<h5>Message</h5>"
      }
     },
     "6262e153800c4853a7e92d6dd8a4992c": {
      "model_module": "@jupyter-widgets/controls",
      "model_module_version": "2.0.0",
      "model_name": "HTMLStyleModel",
      "state": {
       "description_width": "",
       "font_size": null,
       "text_color": null
      }
     },
     "68730a533d2441d7a0be9dbff4d1e84a": {
      "model_module": "@jupyter-widgets/controls",
      "model_module_version": "2.0.0",
      "model_name": "HTMLStyleModel",
      "state": {
       "description_width": "",
       "font_size": null,
       "text_color": null
      }
     },
     "698f5d34f25145bd86ebfc91ff7bc1ca": {
      "model_module": "@jupyter-widgets/controls",
      "model_module_version": "2.0.0",
      "model_name": "ButtonModel",
      "state": {
       "button_style": "primary",
       "description": "Clear",
       "layout": "IPY_MODEL_c7323707ef8f45b79cba90a4845780d6",
       "style": "IPY_MODEL_807d59d745464741a64fdddf05411fb6",
       "tooltip": null
      }
     },
     "6d096fa621d94eed97dc8232738f78c3": {
      "model_module": "@jupyter-widgets/controls",
      "model_module_version": "2.0.0",
      "model_name": "HTMLStyleModel",
      "state": {
       "description_width": "",
       "font_size": null,
       "text_color": null
      }
     },
     "74aede7babfe4ddf9c83769c5a74a400": {
      "model_module": "@jupyter-widgets/controls",
      "model_module_version": "2.0.0",
      "model_name": "HTMLModel",
      "state": {
       "layout": "IPY_MODEL_20970fa35d024eb59184cea015a17066",
       "style": "IPY_MODEL_8d987a3902f64bfda1881e034905a1cd",
       "value": "<h5>Job ID</h5>"
      }
     },
     "807d59d745464741a64fdddf05411fb6": {
      "model_module": "@jupyter-widgets/controls",
      "model_module_version": "2.0.0",
      "model_name": "ButtonStyleModel",
      "state": {
       "font_family": null,
       "font_size": null,
       "font_style": null,
       "font_variant": null,
       "font_weight": null,
       "text_color": null,
       "text_decoration": null
      }
     },
     "83aa32eccda24aa098ea0a4a864763f5": {
      "model_module": "@jupyter-widgets/base",
      "model_module_version": "2.0.0",
      "model_name": "LayoutModel",
      "state": {}
     },
     "8d987a3902f64bfda1881e034905a1cd": {
      "model_module": "@jupyter-widgets/controls",
      "model_module_version": "2.0.0",
      "model_name": "HTMLStyleModel",
      "state": {
       "description_width": "",
       "font_size": null,
       "text_color": null
      }
     },
     "931ffeb4564a4930ae6c5978d2614957": {
      "model_module": "@jupyter-widgets/base",
      "model_module_version": "2.0.0",
      "model_name": "LayoutModel",
      "state": {
       "width": "145px"
      }
     },
     "b3d1f9d5887c4c7f93019d0084e4cc70": {
      "model_module": "@jupyter-widgets/controls",
      "model_module_version": "2.0.0",
      "model_name": "HTMLStyleModel",
      "state": {
       "description_width": "",
       "font_size": null,
       "text_color": null
      }
     },
     "c7323707ef8f45b79cba90a4845780d6": {
      "model_module": "@jupyter-widgets/base",
      "model_module_version": "2.0.0",
      "model_name": "LayoutModel",
      "state": {
       "grid_area": "right",
       "padding": "0px 0px 0px 0px",
       "width": "70px"
      }
     },
     "d4a67fe5ec544967831869810bb2f1c4": {
      "model_module": "@jupyter-widgets/controls",
      "model_module_version": "2.0.0",
      "model_name": "HTMLStyleModel",
      "state": {
       "description_width": "",
       "font_size": null,
       "text_color": null
      }
     },
     "e4be69a26850430b87914108f00b7afb": {
      "model_module": "@jupyter-widgets/controls",
      "model_module_version": "2.0.0",
      "model_name": "HBoxModel",
      "state": {
       "children": [
        "IPY_MODEL_74aede7babfe4ddf9c83769c5a74a400",
        "IPY_MODEL_4c7e709e220a46b9b57aee5a8b8aafff",
        "IPY_MODEL_53f3c94bf8f247779b1b165c3b24670b",
        "IPY_MODEL_2e1aa8a1d0074298acfb6e9d00bf733e",
        "IPY_MODEL_5c48c3714f104697836131748f15a37a"
       ],
       "layout": "IPY_MODEL_54ae0ea21cc14ddf90da8fd7d50fe25a"
      }
     },
     "ed311be9e23143aaa9a1721ab3f56a1a": {
      "model_module": "@jupyter-widgets/base",
      "model_module_version": "2.0.0",
      "model_name": "LayoutModel",
      "state": {
       "grid_template_areas": "\n                                       \". . . . right \"\n                                        ",
       "grid_template_columns": "20% 20% 20% 20% 20%",
       "width": "100%"
      }
     },
     "f5dd0ac24f2345b9b5dcce3e9571a6fa": {
      "model_module": "@jupyter-widgets/base",
      "model_module_version": "2.0.0",
      "model_name": "LayoutModel",
      "state": {
       "width": "95px"
      }
     },
     "f929338e047f468396a73de7206bce1c": {
      "model_module": "@jupyter-widgets/base",
      "model_module_version": "2.0.0",
      "model_name": "LayoutModel",
      "state": {
       "width": "70px"
      }
     }
    },
    "version_major": 2,
    "version_minor": 0
   }
  }
 },
 "nbformat": 4,
 "nbformat_minor": 5
}
