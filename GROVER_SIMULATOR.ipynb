{
 "cells": [
  {
   "cell_type": "code",
   "execution_count": 1,
   "metadata": {
    "ExecuteTime": {
     "end_time": "2019-08-19T17:00:43.403378Z",
     "start_time": "2019-08-19T17:00:41.139269Z"
    }
   },
   "outputs": [],
   "source": [
    "import numpy as np\n",
    "import math\n",
    "from qiskit import QuantumCircuit\n",
    "from qiskit.circuit.library import GroverOperator, MCMT, ZGate\n",
    "from qiskit.visualization import plot_distribution\n",
    "from qiskit_ibm_runtime import QiskitRuntimeService, Sampler, Session\n",
    "from qiskit.providers.basic_provider import BasicProvider\n",
    "from qiskit.visualization import plot_histogram\n",
    "from qiskit import transpile\n",
    "from qiskit.providers.fake_provider import GenericBackendV2\n",
    "backend = GenericBackendV2(num_qubits=5)"
   ]
  },
  {
   "cell_type": "code",
   "execution_count": 2,
   "metadata": {},
   "outputs": [],
   "source": [
    "def grover_oracle(marked_states, i, j, k):\n",
    "    if not isinstance(marked_states, list):\n",
    "        marked_states = [marked_states]\n",
    "    num_qubits = len(marked_states[0])\n",
    "    qc = QuantumCircuit(num_qubits)\n",
    "    for target in marked_states:\n",
    "        rev_target = target[::-1]\n",
    "        zero_inds = [ind for ind in range(num_qubits) if rev_target.startswith(\"0\", ind)]\n",
    "        qc.x(zero_inds)\n",
    "            \n",
    "        \"\"\"ZAJ 1\"\"\"\n",
    "        qc.rx(i,zero_inds)\n",
    "        qc.ry(j,zero_inds)\n",
    "        qc.rz(k,zero_inds)\n",
    "            \n",
    "        qc.compose(MCMT(ZGate(), num_qubits - 1, 1), inplace=True)\n",
    "        qc.x(zero_inds)\n",
    "    return qc"
   ]
  },
  {
   "cell_type": "code",
   "execution_count": 3,
   "metadata": {},
   "outputs": [],
   "source": [
    "def printToConsole():\n",
    "    # Format counts data\n",
    "    formatted_output = \"\"\n",
    "    #for state in ['000', '001', '010', '011', '100', '101', '110', '111']:\n",
    "    for state in ['0000', '0001', '0010', '0011', '0100', '0101', '0110', '0111', \n",
    "                '1000', '1001', '1010', '1011', '1100', '1101', '1110', '1111']:\n",
    "        formatted_output += f\"{counts.get(state, 0)} \"\n",
    "        \n",
    "    # Write counts data to a text file\n",
    "    with open('counts_data.txt', 'a') as file:\n",
    "        file.write(formatted_output)\n",
    "        file.write(f\"{x} {y} {z}\\n\")\n",
    "    if(printDebug):\n",
    "        import matplotlib.pyplot as plt\n",
    "            \n",
    "        # Parse counts data\n",
    "        counts_data = {state: counts.get(state, 0) for state in ['0000', '0001', '0010', '0011', '0100', '0101', '0110', '0111', \n",
    "                              '1000', '1001', '1010', '1011', '1100', '1101', '1110', '1111']}\n",
    "        #for state in ['000', '001', '010', '011', '100', '101', '110', '111']}\n",
    "            \n",
    "        # Plot counts\n",
    "        plt.bar(counts_data.keys(), counts_data.values())\n",
    "        plt.xlabel('States')\n",
    "        plt.ylabel('Counts')\n",
    "        plt.title('Quantum Circuit Measurement Results')\n",
    "        plt.show()\n",
    "        print(counts_data)"
   ]
  },
  {
   "cell_type": "code",
   "execution_count": 4,
   "metadata": {},
   "outputs": [],
   "source": [
    "marked_states = [\"0010\", \"1000\"]\n",
    "printDebug = False\n",
    "randomXYZ = False\n",
    "\n",
    "#RX, RY, RZ trasformators causing error in the grover oracle by rotating state by v/100\n",
    "fromRot = -100\n",
    "toRot = 101\n",
    "XYZ = 2 #1->RX, 2->RY, 3->RZ\n",
    "\n",
    "num_simulations = 10 #averaging this many simulations, (good for graphing)"
   ]
  },
  {
   "cell_type": "code",
   "execution_count": null,
   "metadata": {
    "scrolled": true
   },
   "outputs": [],
   "source": [
    "for i in range(fromRot, toRot,1):\n",
    "    # Initialize empty dictionary for averages\n",
    "    averages = {}\n",
    "    x=0\n",
    "    y=0\n",
    "    z=0\n",
    "    # Loop for multiple simulations\n",
    "    for _ in range(num_simulations):\n",
    "        zaj=i\n",
    "        if(randomXYZ):\n",
    "            k = random.randrange(-100,100)#-1 - +1 fok kozott random zaj \n",
    "\n",
    "        if XYZ == 1:\n",
    "            x=zaj/100\n",
    "        elif XYZ == 2:\n",
    "            y=zaj/100\n",
    "        elif XYZ == 3:\n",
    "            z=zaj/100\n",
    "            \n",
    "        oracle = grover_oracle(marked_states, x, y, z)\n",
    "            \n",
    "        grover_op = GroverOperator(oracle)\n",
    "        optimal_num_iterations = math.floor(math.pi / 4 * math.sqrt(2 ** grover_op.num_qubits / len(marked_states)))\n",
    "        qc = QuantumCircuit(grover_op.num_qubits)\n",
    "        qc.h(range(grover_op.num_qubits))\n",
    "        qc.compose(grover_op.power(optimal_num_iterations), inplace=True)\n",
    "        qc.measure_all()\n",
    "        backend = GenericBackendV2(num_qubits=4)\n",
    "        transpiled_circuit = transpile(qc, backend)\n",
    "        job = backend.run(transpiled_circuit)\n",
    "        counts = job.result().get_counts()\n",
    "                    \n",
    "        # Update averages for each state\n",
    "        #for state in ['000', '001', '010', '011', '100', '101', '110', '111']:\n",
    "        for state in ['0000', '0001', '0010', '0011', '0100', '0101', '0110', '0111', \n",
    "                        '1000', '1001', '1010', '1011', '1100', '1101', '1110', '1111']:\n",
    "            averages[state] = averages.get(state, 0) + counts.get(state, 0)\n",
    "                \n",
    "    # Calculate averages\n",
    "    for state in averages:\n",
    "        averages[state] /= num_simulations\n",
    "                \n",
    "    # Write averages to a text file\n",
    "    with open('averages_data.txt', 'a') as file:\n",
    "        for state in averages:\n",
    "            file.write(f\"{int(averages[state])} \")\n",
    "        file.write(f\"{x} {y} {z}\")\n",
    "        file.write(\"\\n\")\n",
    "\n",
    "if(printDebug):\n",
    "    printToConsole()\n",
    "        \n",
    "    \n",
    "print(\"All done\")"
   ]
  },
  {
   "cell_type": "markdown",
   "metadata": {},
   "source": []
  }
 ],
 "metadata": {
  "description": "Build custom noise models for noisy simulation with Qiskit Aer",
  "kernelspec": {
   "display_name": "Python 3 (ipykernel)",
   "language": "python",
   "name": "python3"
  },
  "language_info": {
   "codemirror_mode": {
    "name": "ipython",
    "version": 3
   },
   "file_extension": ".py",
   "mimetype": "text/x-python",
   "name": "python",
   "nbconvert_exporter": "python",
   "pygments_lexer": "ipython3",
   "version": "3.12.2"
  },
  "title": "Building noise models"
 },
 "nbformat": 4,
 "nbformat_minor": 4
}
